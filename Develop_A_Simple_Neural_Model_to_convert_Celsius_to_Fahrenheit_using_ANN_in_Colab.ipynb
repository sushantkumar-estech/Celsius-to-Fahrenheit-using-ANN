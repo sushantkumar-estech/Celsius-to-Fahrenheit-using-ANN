{
  "nbformat": 4,
  "nbformat_minor": 0,
  "metadata": {
    "colab": {
      "name": "Develop A Simple Neural Model to convert Celsius to Fahrenheit using ANN in Colab.ipynb",
      "provenance": [],
      "authorship_tag": "ABX9TyMhlllXmLcDBH8rZlnXKA4B",
      "include_colab_link": true
    },
    "kernelspec": {
      "name": "python3",
      "display_name": "Python 3"
    }
  },
  "cells": [
    {
      "cell_type": "markdown",
      "metadata": {
        "id": "view-in-github",
        "colab_type": "text"
      },
      "source": [
        "<a href=\"https://colab.research.google.com/github/sushantkumar-estech/Celsius-to-Fahrenheit-using-ANN/blob/master/Develop_A_Simple_Neural_Model_to_convert_Celsius_to_Fahrenheit_using_ANN_in_Colab.ipynb\" target=\"_parent\"><img src=\"https://colab.research.google.com/assets/colab-badge.svg\" alt=\"Open In Colab\"/></a>"
      ]
    },
    {
      "cell_type": "markdown",
      "metadata": {
        "id": "kUW8lIjVCIb8",
        "colab_type": "text"
      },
      "source": [
        "## STEP#0: Import Libraries"
      ]
    },
    {
      "cell_type": "code",
      "metadata": {
        "id": "-y32g6y6CHHb",
        "colab_type": "code",
        "colab": {}
      },
      "source": [
        "# !pip install tensorflow-gpu==2.0.0.alpha0"
      ],
      "execution_count": null,
      "outputs": []
    },
    {
      "cell_type": "code",
      "metadata": {
        "id": "a8ZAvBbDosHK",
        "colab_type": "code",
        "colab": {
          "base_uri": "https://localhost:8080/",
          "height": 408
        },
        "outputId": "98790ba9-6ad2-4094-bcff-c0e1d8467a9e"
      },
      "source": [
        "#Installing compatible tensorflow \n",
        "!pip install tensorflow\n",
        "try:\n",
        "  %tensorflow_version 1.x\n",
        "except Exception:\n",
        "  pass"
      ],
      "execution_count": 38,
      "outputs": [
        {
          "output_type": "stream",
          "text": [
            "Requirement already satisfied: tensorflow in /tensorflow-1.15.2/python3.6 (1.15.2)\n",
            "Requirement already satisfied: astor>=0.6.0 in /usr/local/lib/python3.6/dist-packages (from tensorflow) (0.8.1)\n",
            "Requirement already satisfied: keras-preprocessing>=1.0.5 in /usr/local/lib/python3.6/dist-packages (from tensorflow) (1.1.2)\n",
            "Requirement already satisfied: wrapt>=1.11.1 in /usr/local/lib/python3.6/dist-packages (from tensorflow) (1.12.1)\n",
            "Requirement already satisfied: grpcio>=1.8.6 in /usr/local/lib/python3.6/dist-packages (from tensorflow) (1.31.0)\n",
            "Requirement already satisfied: wheel>=0.26; python_version >= \"3\" in /usr/local/lib/python3.6/dist-packages (from tensorflow) (0.34.2)\n",
            "Requirement already satisfied: termcolor>=1.1.0 in /usr/local/lib/python3.6/dist-packages (from tensorflow) (1.1.0)\n",
            "Requirement already satisfied: tensorflow-estimator==1.15.1 in /tensorflow-1.15.2/python3.6 (from tensorflow) (1.15.1)\n",
            "Requirement already satisfied: keras-applications>=1.0.8 in /tensorflow-1.15.2/python3.6 (from tensorflow) (1.0.8)\n",
            "Requirement already satisfied: opt-einsum>=2.3.2 in /usr/local/lib/python3.6/dist-packages (from tensorflow) (3.3.0)\n",
            "Requirement already satisfied: tensorboard<1.16.0,>=1.15.0 in /tensorflow-1.15.2/python3.6 (from tensorflow) (1.15.0)\n",
            "Requirement already satisfied: absl-py>=0.7.0 in /usr/local/lib/python3.6/dist-packages (from tensorflow) (0.9.0)\n",
            "Requirement already satisfied: gast==0.2.2 in /usr/local/lib/python3.6/dist-packages (from tensorflow) (0.2.2)\n",
            "Requirement already satisfied: protobuf>=3.6.1 in /usr/local/lib/python3.6/dist-packages (from tensorflow) (3.12.4)\n",
            "Requirement already satisfied: numpy<2.0,>=1.16.0 in /usr/local/lib/python3.6/dist-packages (from tensorflow) (1.18.5)\n",
            "Requirement already satisfied: six>=1.10.0 in /usr/local/lib/python3.6/dist-packages (from tensorflow) (1.15.0)\n",
            "Requirement already satisfied: google-pasta>=0.1.6 in /usr/local/lib/python3.6/dist-packages (from tensorflow) (0.2.0)\n",
            "Requirement already satisfied: h5py in /usr/local/lib/python3.6/dist-packages (from keras-applications>=1.0.8->tensorflow) (2.10.0)\n",
            "Requirement already satisfied: markdown>=2.6.8 in /usr/local/lib/python3.6/dist-packages (from tensorboard<1.16.0,>=1.15.0->tensorflow) (3.2.2)\n",
            "Requirement already satisfied: werkzeug>=0.11.15 in /usr/local/lib/python3.6/dist-packages (from tensorboard<1.16.0,>=1.15.0->tensorflow) (1.0.1)\n",
            "Requirement already satisfied: setuptools>=41.0.0 in /usr/local/lib/python3.6/dist-packages (from tensorboard<1.16.0,>=1.15.0->tensorflow) (49.2.0)\n",
            "Requirement already satisfied: importlib-metadata; python_version < \"3.8\" in /usr/local/lib/python3.6/dist-packages (from markdown>=2.6.8->tensorboard<1.16.0,>=1.15.0->tensorflow) (1.7.0)\n",
            "Requirement already satisfied: zipp>=0.5 in /usr/local/lib/python3.6/dist-packages (from importlib-metadata; python_version < \"3.8\"->markdown>=2.6.8->tensorboard<1.16.0,>=1.15.0->tensorflow) (3.1.0)\n"
          ],
          "name": "stdout"
        }
      ]
    },
    {
      "cell_type": "code",
      "metadata": {
        "id": "3XKxhNdYC1Sh",
        "colab_type": "code",
        "colab": {}
      },
      "source": [
        "#Importing required libraries for data processing and visualization\n",
        "\n",
        "import tensorflow as tf\n",
        "import pandas as pd\n",
        "import seaborn as sns  # to plot images and statical version of data\n",
        "import numpy as np\n",
        "import matplotlib.pyplot as plt\n"
      ],
      "execution_count": 39,
      "outputs": []
    },
    {
      "cell_type": "markdown",
      "metadata": {
        "id": "mPv8gmXDCt3z",
        "colab_type": "text"
      },
      "source": [
        "## STEP #1: Import *Dataset*"
      ]
    },
    {
      "cell_type": "code",
      "metadata": {
        "id": "BFRdf793Cz-2",
        "colab_type": "code",
        "colab": {
          "base_uri": "https://localhost:8080/",
          "height": 34
        },
        "outputId": "7ed9e153-dbb4-44ea-d9c7-b6785b6b079c"
      },
      "source": [
        "#Mouting colab with the drive\n",
        "\n",
        "from google.colab import drive\n",
        "drive.mount('/content/drive')"
      ],
      "execution_count": 40,
      "outputs": [
        {
          "output_type": "stream",
          "text": [
            "Drive already mounted at /content/drive; to attempt to forcibly remount, call drive.mount(\"/content/drive\", force_remount=True).\n"
          ],
          "name": "stdout"
        }
      ]
    },
    {
      "cell_type": "code",
      "metadata": {
        "id": "z3DuF3csDVsC",
        "colab_type": "code",
        "colab": {}
      },
      "source": [
        "#Importing dataset from drive\n",
        "\n",
        "temp_df = pd.read_csv('/content/drive/My Drive/ML_Dataset/Celsius to Fahrenheit/Celsius_Fahrenheit_dataset_1000.csv')"
      ],
      "execution_count": 43,
      "outputs": []
    },
    {
      "cell_type": "code",
      "metadata": {
        "id": "E8yWe1SxEqp8",
        "colab_type": "code",
        "colab": {
          "base_uri": "https://localhost:8080/",
          "height": 204
        },
        "outputId": "cba549c1-7058-4e17-b1e8-158afdcc6dce"
      },
      "source": [
        "temp_df.head() #showing top rows"
      ],
      "execution_count": 44,
      "outputs": [
        {
          "output_type": "execute_result",
          "data": {
            "text/html": [
              "<div>\n",
              "<style scoped>\n",
              "    .dataframe tbody tr th:only-of-type {\n",
              "        vertical-align: middle;\n",
              "    }\n",
              "\n",
              "    .dataframe tbody tr th {\n",
              "        vertical-align: top;\n",
              "    }\n",
              "\n",
              "    .dataframe thead th {\n",
              "        text-align: right;\n",
              "    }\n",
              "</style>\n",
              "<table border=\"1\" class=\"dataframe\">\n",
              "  <thead>\n",
              "    <tr style=\"text-align: right;\">\n",
              "      <th></th>\n",
              "      <th>Celsius</th>\n",
              "      <th>Fahrenheit</th>\n",
              "    </tr>\n",
              "  </thead>\n",
              "  <tbody>\n",
              "    <tr>\n",
              "      <th>0</th>\n",
              "      <td>-67</td>\n",
              "      <td>-88.6</td>\n",
              "    </tr>\n",
              "    <tr>\n",
              "      <th>1</th>\n",
              "      <td>40</td>\n",
              "      <td>104.0</td>\n",
              "    </tr>\n",
              "    <tr>\n",
              "      <th>2</th>\n",
              "      <td>-97</td>\n",
              "      <td>-142.6</td>\n",
              "    </tr>\n",
              "    <tr>\n",
              "      <th>3</th>\n",
              "      <td>57</td>\n",
              "      <td>134.6</td>\n",
              "    </tr>\n",
              "    <tr>\n",
              "      <th>4</th>\n",
              "      <td>-50</td>\n",
              "      <td>-58.0</td>\n",
              "    </tr>\n",
              "  </tbody>\n",
              "</table>\n",
              "</div>"
            ],
            "text/plain": [
              "   Celsius  Fahrenheit\n",
              "0      -67       -88.6\n",
              "1       40       104.0\n",
              "2      -97      -142.6\n",
              "3       57       134.6\n",
              "4      -50       -58.0"
            ]
          },
          "metadata": {
            "tags": []
          },
          "execution_count": 44
        }
      ]
    },
    {
      "cell_type": "code",
      "metadata": {
        "id": "2GY3ZDUMEzHK",
        "colab_type": "code",
        "colab": {
          "base_uri": "https://localhost:8080/",
          "height": 204
        },
        "outputId": "2c103e42-9c70-4c7d-f976-247603cf847d"
      },
      "source": [
        "temp_df.tail(5) #last 5 rows of the dataset     "
      ],
      "execution_count": 45,
      "outputs": [
        {
          "output_type": "execute_result",
          "data": {
            "text/html": [
              "<div>\n",
              "<style scoped>\n",
              "    .dataframe tbody tr th:only-of-type {\n",
              "        vertical-align: middle;\n",
              "    }\n",
              "\n",
              "    .dataframe tbody tr th {\n",
              "        vertical-align: top;\n",
              "    }\n",
              "\n",
              "    .dataframe thead th {\n",
              "        text-align: right;\n",
              "    }\n",
              "</style>\n",
              "<table border=\"1\" class=\"dataframe\">\n",
              "  <thead>\n",
              "    <tr style=\"text-align: right;\">\n",
              "      <th></th>\n",
              "      <th>Celsius</th>\n",
              "      <th>Fahrenheit</th>\n",
              "    </tr>\n",
              "  </thead>\n",
              "  <tbody>\n",
              "    <tr>\n",
              "      <th>995</th>\n",
              "      <td>-80</td>\n",
              "      <td>-112.0</td>\n",
              "    </tr>\n",
              "    <tr>\n",
              "      <th>996</th>\n",
              "      <td>50</td>\n",
              "      <td>122.0</td>\n",
              "    </tr>\n",
              "    <tr>\n",
              "      <th>997</th>\n",
              "      <td>18</td>\n",
              "      <td>64.4</td>\n",
              "    </tr>\n",
              "    <tr>\n",
              "      <th>998</th>\n",
              "      <td>47</td>\n",
              "      <td>116.6</td>\n",
              "    </tr>\n",
              "    <tr>\n",
              "      <th>999</th>\n",
              "      <td>-67</td>\n",
              "      <td>-88.6</td>\n",
              "    </tr>\n",
              "  </tbody>\n",
              "</table>\n",
              "</div>"
            ],
            "text/plain": [
              "     Celsius  Fahrenheit\n",
              "995      -80      -112.0\n",
              "996       50       122.0\n",
              "997       18        64.4\n",
              "998       47       116.6\n",
              "999      -67       -88.6"
            ]
          },
          "metadata": {
            "tags": []
          },
          "execution_count": 45
        }
      ]
    },
    {
      "cell_type": "code",
      "metadata": {
        "id": "srFhCdPgE6oB",
        "colab_type": "code",
        "colab": {
          "base_uri": "https://localhost:8080/",
          "height": 297
        },
        "outputId": "339a7899-3240-47a4-ad46-080782d8a282"
      },
      "source": [
        "temp_df.describe() #description about dataset"
      ],
      "execution_count": 46,
      "outputs": [
        {
          "output_type": "execute_result",
          "data": {
            "text/html": [
              "<div>\n",
              "<style scoped>\n",
              "    .dataframe tbody tr th:only-of-type {\n",
              "        vertical-align: middle;\n",
              "    }\n",
              "\n",
              "    .dataframe tbody tr th {\n",
              "        vertical-align: top;\n",
              "    }\n",
              "\n",
              "    .dataframe thead th {\n",
              "        text-align: right;\n",
              "    }\n",
              "</style>\n",
              "<table border=\"1\" class=\"dataframe\">\n",
              "  <thead>\n",
              "    <tr style=\"text-align: right;\">\n",
              "      <th></th>\n",
              "      <th>Celsius</th>\n",
              "      <th>Fahrenheit</th>\n",
              "    </tr>\n",
              "  </thead>\n",
              "  <tbody>\n",
              "    <tr>\n",
              "      <th>count</th>\n",
              "      <td>1000.000000</td>\n",
              "      <td>1000.000000</td>\n",
              "    </tr>\n",
              "    <tr>\n",
              "      <th>mean</th>\n",
              "      <td>-0.029000</td>\n",
              "      <td>31.947800</td>\n",
              "    </tr>\n",
              "    <tr>\n",
              "      <th>std</th>\n",
              "      <td>57.334173</td>\n",
              "      <td>103.201511</td>\n",
              "    </tr>\n",
              "    <tr>\n",
              "      <th>min</th>\n",
              "      <td>-100.000000</td>\n",
              "      <td>-148.000000</td>\n",
              "    </tr>\n",
              "    <tr>\n",
              "      <th>25%</th>\n",
              "      <td>-50.000000</td>\n",
              "      <td>-58.000000</td>\n",
              "    </tr>\n",
              "    <tr>\n",
              "      <th>50%</th>\n",
              "      <td>-2.000000</td>\n",
              "      <td>28.400000</td>\n",
              "    </tr>\n",
              "    <tr>\n",
              "      <th>75%</th>\n",
              "      <td>50.000000</td>\n",
              "      <td>122.000000</td>\n",
              "    </tr>\n",
              "    <tr>\n",
              "      <th>max</th>\n",
              "      <td>100.000000</td>\n",
              "      <td>212.000000</td>\n",
              "    </tr>\n",
              "  </tbody>\n",
              "</table>\n",
              "</div>"
            ],
            "text/plain": [
              "           Celsius   Fahrenheit\n",
              "count  1000.000000  1000.000000\n",
              "mean     -0.029000    31.947800\n",
              "std      57.334173   103.201511\n",
              "min    -100.000000  -148.000000\n",
              "25%     -50.000000   -58.000000\n",
              "50%      -2.000000    28.400000\n",
              "75%      50.000000   122.000000\n",
              "max     100.000000   212.000000"
            ]
          },
          "metadata": {
            "tags": []
          },
          "execution_count": 46
        }
      ]
    },
    {
      "cell_type": "code",
      "metadata": {
        "id": "3_-WuhCFFBWO",
        "colab_type": "code",
        "colab": {
          "base_uri": "https://localhost:8080/",
          "height": 170
        },
        "outputId": "d51d092b-992f-4198-cfb1-f5025c15c818"
      },
      "source": [
        "temp_df.info()"
      ],
      "execution_count": 47,
      "outputs": [
        {
          "output_type": "stream",
          "text": [
            "<class 'pandas.core.frame.DataFrame'>\n",
            "RangeIndex: 1000 entries, 0 to 999\n",
            "Data columns (total 2 columns):\n",
            " #   Column      Non-Null Count  Dtype  \n",
            "---  ------      --------------  -----  \n",
            " 0   Celsius     1000 non-null   int64  \n",
            " 1   Fahrenheit  1000 non-null   float64\n",
            "dtypes: float64(1), int64(1)\n",
            "memory usage: 15.8 KB\n"
          ],
          "name": "stdout"
        }
      ]
    },
    {
      "cell_type": "markdown",
      "metadata": {
        "id": "79W-67WaFnXI",
        "colab_type": "text"
      },
      "source": [
        "`## STEP #2: Visualization of Dataset`"
      ]
    },
    {
      "cell_type": "code",
      "metadata": {
        "id": "0UJp1zltFRhr",
        "colab_type": "code",
        "colab": {
          "base_uri": "https://localhost:8080/",
          "height": 296
        },
        "outputId": "f03d659e-1603-46b9-f758-568fa642fde2"
      },
      "source": [
        "sns.scatterplot(temp_df['Celsius'], temp_df['Fahrenheit'])"
      ],
      "execution_count": 48,
      "outputs": [
        {
          "output_type": "execute_result",
          "data": {
            "text/plain": [
              "<matplotlib.axes._subplots.AxesSubplot at 0x7f234b7b29b0>"
            ]
          },
          "metadata": {
            "tags": []
          },
          "execution_count": 48
        },
        {
          "output_type": "display_data",
          "data": {
            "image/png": "[encoded data removed]",
            "text/plain": [
              "<Figure size 432x288 with 1 Axes>"
            ]
          },
          "metadata": {
            "tags": [],
            "needs_background": "light"
          }
        }
      ]
    },
    {
      "cell_type": "markdown",
      "metadata": {
        "id": "X8Fg940rGEUb",
        "colab_type": "text"
      },
      "source": [
        "## STEP #3: Creating Training & Testing Dataset"
      ]
    },
    {
      "cell_type": "code",
      "metadata": {
        "id": "q06xPfhmF6Wq",
        "colab_type": "code",
        "colab": {}
      },
      "source": [
        "X_train = temp_df['Celsius']\n",
        "y_train = temp_df['Fahrenheit']"
      ],
      "execution_count": 49,
      "outputs": []
    },
    {
      "cell_type": "markdown",
      "metadata": {
        "id": "LSkF2APRGxpN",
        "colab_type": "text"
      },
      "source": [
        "## STEP #4: Build & Train the Model"
      ]
    },
    {
      "cell_type": "code",
      "metadata": {
        "id": "R9fLwFNxGw-o",
        "colab_type": "code",
        "colab": {
          "base_uri": "https://localhost:8080/",
          "height": 34
        },
        "outputId": "d8f8579b-d203-4a1a-b274-048bc2c7be8e"
      },
      "source": [
        "X_train.shape"
      ],
      "execution_count": 50,
      "outputs": [
        {
          "output_type": "execute_result",
          "data": {
            "text/plain": [
              "(1000,)"
            ]
          },
          "metadata": {
            "tags": []
          },
          "execution_count": 50
        }
      ]
    },
    {
      "cell_type": "code",
      "metadata": {
        "id": "uJh68ZGCGopj",
        "colab_type": "code",
        "colab": {
          "base_uri": "https://localhost:8080/",
          "height": 34
        },
        "outputId": "d03e142f-b82e-498a-a574-4fef8e0b6c0b"
      },
      "source": [
        "y_train.shape"
      ],
      "execution_count": 51,
      "outputs": [
        {
          "output_type": "execute_result",
          "data": {
            "text/plain": [
              "(1000,)"
            ]
          },
          "metadata": {
            "tags": []
          },
          "execution_count": 51
        }
      ]
    },
    {
      "cell_type": "code",
      "metadata": {
        "id": "V2qhxbxxG-80",
        "colab_type": "code",
        "colab": {}
      },
      "source": [
        "# in tensorflow 2.0, keras API come automatically with tensorflow 2.0\n",
        "model = tf.keras.Sequential()\n",
        "model.add(tf.keras.layers.Dense(units= 32 , input_shape = (1,)))\n",
        "#Dense when we have fully connected atificial neural network\n",
        "# now we are adding one more layer to the network\n",
        "model.add(tf.keras.layers.Dense(units = 32))\n",
        "# now adding the output layer\n",
        "model.add(tf.keras.layers.Dense(units = 1))"
      ],
      "execution_count": 61,
      "outputs": []
    },
    {
      "cell_type": "code",
      "metadata": {
        "id": "MS5BObu7HocD",
        "colab_type": "code",
        "colab": {
          "base_uri": "https://localhost:8080/",
          "height": 255
        },
        "outputId": "c49a9279-1534-49d1-d1d1-716993aafca8"
      },
      "source": [
        "model.summary()"
      ],
      "execution_count": 62,
      "outputs": [
        {
          "output_type": "stream",
          "text": [
            "Model: \"sequential_1\"\n",
            "_________________________________________________________________\n",
            "Layer (type)                 Output Shape              Param #   \n",
            "=================================================================\n",
            "dense_3 (Dense)              (None, 32)                64        \n",
            "_________________________________________________________________\n",
            "dense_4 (Dense)              (None, 32)                1056      \n",
            "_________________________________________________________________\n",
            "dense_5 (Dense)              (None, 1)                 33        \n",
            "=================================================================\n",
            "Total params: 1,153\n",
            "Trainable params: 1,153\n",
            "Non-trainable params: 0\n",
            "_________________________________________________________________\n"
          ],
          "name": "stdout"
        }
      ]
    },
    {
      "cell_type": "code",
      "metadata": {
        "id": "GH7sXWvvHrHQ",
        "colab_type": "code",
        "colab": {}
      },
      "source": [
        "model.compile(optimizer= tf.keras.optimizers.Adam(1), loss = 'mean_squared_error')"
      ],
      "execution_count": 63,
      "outputs": []
    },
    {
      "cell_type": "code",
      "metadata": {
        "id": "J4WdGQiFIMUc",
        "colab_type": "code",
        "colab": {
          "base_uri": "https://localhost:8080/",
          "height": 1000
        },
        "outputId": "0f304902-210e-4338-9919-8c2443c45bb0"
      },
      "source": [
        "epochs_hist = model.fit(X_train, y_train, epochs=50, validation_split = 0.2)"
      ],
      "execution_count": 79,
      "outputs": [
        {
          "output_type": "stream",
          "text": [
            "Train on 800 samples, validate on 200 samples\n",
            "Epoch 1/50\n",
            "800/800 [==============================] - 0s 61us/sample - loss: 3.9718e-04 - val_loss: 2.0242e-04\n",
            "Epoch 2/50\n",
            "800/800 [==============================] - 0s 53us/sample - loss: 2.7293e-05 - val_loss: 5.6856e-07\n",
            "Epoch 3/50\n",
            "800/800 [==============================] - 0s 53us/sample - loss: 3.7603e-05 - val_loss: 2.2163e-04\n",
            "Epoch 4/50\n",
            "800/800 [==============================] - 0s 57us/sample - loss: 0.0392 - val_loss: 0.0267\n",
            "Epoch 5/50\n",
            "800/800 [==============================] - 0s 57us/sample - loss: 12.4306 - val_loss: 16.4543\n",
            "Epoch 6/50\n",
            "800/800 [==============================] - 0s 53us/sample - loss: 8.2178 - val_loss: 0.1486\n",
            "Epoch 7/50\n",
            "800/800 [==============================] - 0s 55us/sample - loss: 13.0357 - val_loss: 537.6204\n",
            "Epoch 8/50\n",
            "800/800 [==============================] - 0s 55us/sample - loss: 12467.4254 - val_loss: 11436.2709\n",
            "Epoch 9/50\n",
            "800/800 [==============================] - 0s 53us/sample - loss: 10816.5152 - val_loss: 1733.2379\n",
            "Epoch 10/50\n",
            "800/800 [==============================] - 0s 53us/sample - loss: 285.7932 - val_loss: 31.6251\n",
            "Epoch 11/50\n",
            "800/800 [==============================] - 0s 54us/sample - loss: 16.0710 - val_loss: 5.5332\n",
            "Epoch 12/50\n",
            "800/800 [==============================] - 0s 63us/sample - loss: 1.7586 - val_loss: 0.8440\n",
            "Epoch 13/50\n",
            "800/800 [==============================] - 0s 68us/sample - loss: 0.2662 - val_loss: 0.0558\n",
            "Epoch 14/50\n",
            "800/800 [==============================] - 0s 56us/sample - loss: 0.0285 - val_loss: 0.0017\n",
            "Epoch 15/50\n",
            "800/800 [==============================] - 0s 55us/sample - loss: 0.0064 - val_loss: 9.5918e-04\n",
            "Epoch 16/50\n",
            "800/800 [==============================] - 0s 58us/sample - loss: 3.2302e-04 - val_loss: 6.2354e-05\n",
            "Epoch 17/50\n",
            "800/800 [==============================] - 0s 61us/sample - loss: 2.1923e-05 - val_loss: 2.5258e-06\n",
            "Epoch 18/50\n",
            "800/800 [==============================] - 0s 61us/sample - loss: 1.2209e-06 - val_loss: 1.7848e-07\n",
            "Epoch 19/50\n",
            "800/800 [==============================] - 0s 55us/sample - loss: 3.4466e-08 - val_loss: 6.1419e-09\n",
            "Epoch 20/50\n",
            "800/800 [==============================] - 0s 57us/sample - loss: 2.3662e-09 - val_loss: 1.3213e-09\n",
            "Epoch 21/50\n",
            "800/800 [==============================] - 0s 54us/sample - loss: 1.1015e-09 - val_loss: 1.1713e-09\n",
            "Epoch 22/50\n",
            "800/800 [==============================] - 0s 56us/sample - loss: 1.0831e-09 - val_loss: 1.1243e-09\n",
            "Epoch 23/50\n",
            "800/800 [==============================] - 0s 62us/sample - loss: 1.1160e-09 - val_loss: 1.0838e-09\n",
            "Epoch 24/50\n",
            "800/800 [==============================] - 0s 55us/sample - loss: 1.0409e-09 - val_loss: 1.0889e-09\n",
            "Epoch 25/50\n",
            "800/800 [==============================] - 0s 57us/sample - loss: 1.0502e-09 - val_loss: 1.1871e-09\n",
            "Epoch 26/50\n",
            "800/800 [==============================] - 0s 59us/sample - loss: 1.0672e-09 - val_loss: 1.1574e-09\n",
            "Epoch 27/50\n",
            "800/800 [==============================] - 0s 57us/sample - loss: 1.0898e-09 - val_loss: 1.1344e-09\n",
            "Epoch 28/50\n",
            "800/800 [==============================] - 0s 56us/sample - loss: 1.1532e-09 - val_loss: 1.0636e-09\n",
            "Epoch 29/50\n",
            "800/800 [==============================] - 0s 60us/sample - loss: 1.0380e-09 - val_loss: 1.0724e-09\n",
            "Epoch 30/50\n",
            "800/800 [==============================] - 0s 55us/sample - loss: 1.0938e-09 - val_loss: 1.1129e-09\n",
            "Epoch 31/50\n",
            "800/800 [==============================] - 0s 60us/sample - loss: 1.0378e-09 - val_loss: 1.0871e-09\n",
            "Epoch 32/50\n",
            "800/800 [==============================] - 0s 53us/sample - loss: 1.0925e-09 - val_loss: 1.1371e-09\n",
            "Epoch 33/50\n",
            "800/800 [==============================] - 0s 55us/sample - loss: 1.0938e-09 - val_loss: 1.0085e-09\n",
            "Epoch 34/50\n",
            "800/800 [==============================] - 0s 54us/sample - loss: 1.0067e-09 - val_loss: 1.0989e-09\n",
            "Epoch 35/50\n",
            "800/800 [==============================] - 0s 63us/sample - loss: 1.0739e-09 - val_loss: 1.1556e-09\n",
            "Epoch 36/50\n",
            "800/800 [==============================] - 0s 53us/sample - loss: 1.1723e-09 - val_loss: 1.1525e-09\n",
            "Epoch 37/50\n",
            "800/800 [==============================] - 0s 62us/sample - loss: 1.0590e-09 - val_loss: 1.0937e-09\n",
            "Epoch 38/50\n",
            "800/800 [==============================] - 0s 62us/sample - loss: 1.1006e-09 - val_loss: 1.0532e-09\n",
            "Epoch 39/50\n",
            "800/800 [==============================] - 0s 60us/sample - loss: 1.0395e-09 - val_loss: 1.0198e-09\n",
            "Epoch 40/50\n",
            "800/800 [==============================] - 0s 54us/sample - loss: 1.0235e-09 - val_loss: 1.0206e-09\n",
            "Epoch 41/50\n",
            "800/800 [==============================] - 0s 55us/sample - loss: 1.0803e-09 - val_loss: 1.0900e-09\n",
            "Epoch 42/50\n",
            "800/800 [==============================] - 0s 57us/sample - loss: 1.1815e-09 - val_loss: 1.2908e-09\n",
            "Epoch 43/50\n",
            "800/800 [==============================] - 0s 56us/sample - loss: 1.2680e-09 - val_loss: 1.1547e-09\n",
            "Epoch 44/50\n",
            "800/800 [==============================] - 0s 58us/sample - loss: 1.1351e-09 - val_loss: 9.7320e-10\n",
            "Epoch 45/50\n",
            "800/800 [==============================] - 0s 54us/sample - loss: 1.1296e-09 - val_loss: 1.0606e-09\n",
            "Epoch 46/50\n",
            "800/800 [==============================] - 0s 55us/sample - loss: 1.1749e-09 - val_loss: 1.1307e-09\n",
            "Epoch 47/50\n",
            "800/800 [==============================] - 0s 65us/sample - loss: 1.1759e-09 - val_loss: 1.2130e-09\n",
            "Epoch 48/50\n",
            "800/800 [==============================] - 0s 61us/sample - loss: 1.2447e-09 - val_loss: 1.0881e-09\n",
            "Epoch 49/50\n",
            "800/800 [==============================] - 0s 55us/sample - loss: 1.2550e-09 - val_loss: 1.7096e-09\n",
            "Epoch 50/50\n",
            "800/800 [==============================] - 0s 55us/sample - loss: 1.3308e-09 - val_loss: 1.1701e-09\n"
          ],
          "name": "stdout"
        }
      ]
    },
    {
      "cell_type": "code",
      "metadata": {
        "id": "I039pt4cIY0S",
        "colab_type": "code",
        "colab": {}
      },
      "source": [
        ""
      ],
      "execution_count": 79,
      "outputs": []
    },
    {
      "cell_type": "markdown",
      "metadata": {
        "id": "lmFTFUOsJhMo",
        "colab_type": "text"
      },
      "source": [
        "## STEP #5: Evaluating the Model"
      ]
    },
    {
      "cell_type": "code",
      "metadata": {
        "id": "dZDPCnVDJmGc",
        "colab_type": "code",
        "colab": {
          "base_uri": "https://localhost:8080/",
          "height": 34
        },
        "outputId": "ca5e66f7-349a-4eab-a5b4-96f5f412969d"
      },
      "source": [
        "epochs_hist.history.keys()"
      ],
      "execution_count": 80,
      "outputs": [
        {
          "output_type": "execute_result",
          "data": {
            "text/plain": [
              "dict_keys(['loss', 'val_loss'])"
            ]
          },
          "metadata": {
            "tags": []
          },
          "execution_count": 80
        }
      ]
    },
    {
      "cell_type": "code",
      "metadata": {
        "id": "uv53Sz-DJu1i",
        "colab_type": "code",
        "colab": {
          "base_uri": "https://localhost:8080/",
          "height": 295
        },
        "outputId": "d40f5cf3-5a5e-43fa-d5e1-df43ea0a9158"
      },
      "source": [
        "plt.plot(epochs_hist.history['loss'])\n",
        "plt.title('Model loss Progress during training')\n",
        "plt.xlabel('Epochs')\n",
        "plt.ylabel('Training loss')\n",
        "plt.legend('Training loss')\n",
        "plt.show()"
      ],
      "execution_count": 81,
      "outputs": [
        {
          "output_type": "display_data",
          "data": {
            "image/png": "[encoded data removed]",
            "text/plain": [
              "<Figure size 432x288 with 1 Axes>"
            ]
          },
          "metadata": {
            "tags": [],
            "needs_background": "light"
          }
        }
      ]
    },
    {
      "cell_type": "code",
      "metadata": {
        "id": "Gme4YXxi2Ien",
        "colab_type": "code",
        "colab": {
          "base_uri": "https://localhost:8080/",
          "height": 312
        },
        "outputId": "56a6cb61-f6bb-4f62-d7a5-d79f147a0c7b"
      },
      "source": [
        "plt.plot(epochs_hist.history['loss'])\n",
        "plt.plot(epochs_hist.history['val_loss'])\n",
        "\n",
        "plt.title('Model loss progress during training the model')\n",
        "plt.xlabel('Epochs')\n",
        "plt.ylabel('Training loss')"
      ],
      "execution_count": 82,
      "outputs": [
        {
          "output_type": "execute_result",
          "data": {
            "text/plain": [
              "Text(0, 0.5, 'Training loss')"
            ]
          },
          "metadata": {
            "tags": []
          },
          "execution_count": 82
        },
        {
          "output_type": "display_data",
          "data": {
            "image/png": "[encoded data removed]",
            "text/plain": [
              "<Figure size 432x288 with 1 Axes>"
            ]
          },
          "metadata": {
            "tags": [],
            "needs_background": "light"
          }
        }
      ]
    },
    {
      "cell_type": "code",
      "metadata": {
        "id": "D_gbRS4lJ3pq",
        "colab_type": "code",
        "colab": {
          "base_uri": "https://localhost:8080/",
          "height": 1000
        },
        "outputId": "03c3a7e2-7739-4fad-f808-e34f87f3083b"
      },
      "source": [
        "model.get_weights()"
      ],
      "execution_count": 83,
      "outputs": [
        {
          "output_type": "execute_result",
          "data": {
            "text/plain": [
              "[array([[ 1.2676884 , -0.8383538 ,  1.3006303 , -1.1937852 ,  1.1047567 ,\n",
              "         -1.3703457 , -1.0745071 ,  1.2820911 , -1.3182733 ,  1.1083184 ,\n",
              "          1.5080292 , -1.9162922 , -1.0656005 , -1.1578585 ,  1.21094   ,\n",
              "         -1.4124494 ,  1.8963668 , -1.0498224 , -0.9980737 ,  1.3870387 ,\n",
              "         -1.326021  , -1.3952136 , -1.2238437 , -1.1809022 , -1.3950156 ,\n",
              "         -1.1008517 ,  0.45360547,  1.2061949 ,  1.8832971 , -1.2379857 ,\n",
              "          1.2476867 , -1.3001263 ]], dtype=float32),\n",
              " array([-1.7525816,  4.682883 , -4.7762523,  2.7827032, -2.718477 ,\n",
              "         3.8664908,  3.6683583, -2.003179 ,  4.3727574, -1.3513364,\n",
              "        -3.2980733, -2.0896904,  2.921529 ,  4.8172717, -5.582831 ,\n",
              "         3.063545 ,  2.0363667,  4.6115923,  3.9212615, -4.004783 ,\n",
              "         1.3473316,  2.888407 ,  1.9054044,  5.2393193,  3.2991788,\n",
              "         3.7530923, 16.672865 , -5.7987924,  1.9883554,  2.807545 ,\n",
              "        -5.516213 ,  4.973724 ], dtype=float32),\n",
              " array([[ 0.769528  ,  3.2748203 , -2.3608692 , ..., -2.4141967 ,\n",
              "          0.90100986,  2.5848026 ],\n",
              "        [-0.40172428, -3.4731565 ,  3.0162466 , ...,  2.8978443 ,\n",
              "         -1.2778723 , -3.3096633 ],\n",
              "        [-0.03126508, -1.5563388 ,  1.1989845 , ...,  0.6202461 ,\n",
              "         -0.14428331, -1.4231778 ],\n",
              "        ...,\n",
              "        [-0.41609907, -3.003667  ,  2.5750868 , ...,  2.7645607 ,\n",
              "         -1.3945652 , -3.0901706 ],\n",
              "        [-0.19586071, -1.2670922 ,  0.575103  , ...,  0.3846139 ,\n",
              "          0.13061549, -0.487899  ],\n",
              "        [ 0.17946741,  1.2593414 , -0.7558439 , ..., -0.3249117 ,\n",
              "          0.02612247,  1.286713  ]], dtype=float32),\n",
              " array([-11.528347 ,  -7.1209073,   7.3029466,  -7.0417385,  -6.937777 ,\n",
              "         -6.7592707,   7.8800106,  -9.680382 ,  -7.2509055,  -7.000771 ,\n",
              "         -8.978442 ,  -7.2824645,   7.2919827,   9.821819 , -12.700815 ,\n",
              "          7.5832777,  -9.655059 ,   7.3488736,  10.980853 ,   9.873183 ,\n",
              "         -6.826532 ,  -6.7019935,  -7.7942986,   6.9746494,  10.829769 ,\n",
              "          6.96896  ,  -7.39639  ,   7.0112247,  -9.4528055,   6.9175587,\n",
              "        -10.062866 ,  -6.7697253], dtype=float32),\n",
              " array([[-0.15327446],\n",
              "        [-0.04709994],\n",
              "        [-0.04963994],\n",
              "        [ 0.03390415],\n",
              "        [ 0.11231113],\n",
              "        [ 0.07730959],\n",
              "        [ 0.10990512],\n",
              "        [-0.175464  ],\n",
              "        [ 0.08453938],\n",
              "        [ 0.08555687],\n",
              "        [-0.166023  ],\n",
              "        [ 0.03582772],\n",
              "        [-0.06296062],\n",
              "        [ 0.15139578],\n",
              "        [-0.19683674],\n",
              "        [-0.02527943],\n",
              "        [-0.16323934],\n",
              "        [-0.06442023],\n",
              "        [ 0.18397845],\n",
              "        [ 0.1470822 ],\n",
              "        [ 0.05240693],\n",
              "        [ 0.08752565],\n",
              "        [-0.13069895],\n",
              "        [-0.02572852],\n",
              "        [ 0.15151604],\n",
              "        [-0.10481863],\n",
              "        [ 0.01502183],\n",
              "        [ 0.09365282],\n",
              "        [-0.15374963],\n",
              "        [-0.11064998],\n",
              "        [-0.18752706],\n",
              "        [ 0.05035235]], dtype=float32),\n",
              " array([1.1894151], dtype=float32)]"
            ]
          },
          "metadata": {
            "tags": []
          },
          "execution_count": 83
        }
      ]
    },
    {
      "cell_type": "code",
      "metadata": {
        "id": "yBgd4NQJKzU3",
        "colab_type": "code",
        "colab": {
          "base_uri": "https://localhost:8080/",
          "height": 34
        },
        "outputId": "60df44c2-7397-485a-9a3d-b7d4cb023b13"
      },
      "source": [
        "# Use the same model to perform predictions\n",
        "Temp_C = 12\n",
        "Temp_F = model.predict([Temp_C])\n",
        "print('Temprature in Fahrenheit using simple ANN=', Temp_F)"
      ],
      "execution_count": 84,
      "outputs": [
        {
          "output_type": "stream",
          "text": [
            "Temprature in Fahrenheit using simple ANN= [[53.600002]]\n"
          ],
          "name": "stdout"
        }
      ]
    },
    {
      "cell_type": "code",
      "metadata": {
        "id": "xT7qFFZDLL-6",
        "colab_type": "code",
        "colab": {
          "base_uri": "https://localhost:8080/",
          "height": 34
        },
        "outputId": "47c18993-c773-40d1-a9a0-10bc4ebe3134"
      },
      "source": [
        "# Lets confirm with the equation\n",
        "Temp_F = 9/5 * Temp_C + 32\n",
        "print('Temprature in Fahrenheit using normal equation=', Temp_F)"
      ],
      "execution_count": 85,
      "outputs": [
        {
          "output_type": "stream",
          "text": [
            "Temprature in Fahrenheit using normal equation= 53.6\n"
          ],
          "name": "stdout"
        }
      ]
    },
    {
      "cell_type": "code",
      "metadata": {
        "id": "F4XfEAe5LXfU",
        "colab_type": "code",
        "colab": {}
      },
      "source": [
        ""
      ],
      "execution_count": 85,
      "outputs": []
    }
  ]
}