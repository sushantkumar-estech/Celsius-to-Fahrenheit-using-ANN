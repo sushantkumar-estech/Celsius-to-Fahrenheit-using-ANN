{
  "nbformat": 4,
  "nbformat_minor": 0,
  "metadata": {
    "colab": {
      "name": "Develop A Simple Neural Model to convert Celsius to Fahrenheit using ANN in Colab.ipynb",
      "provenance": [],
      "authorship_tag": "ABX9TyM4h7BqZqjvV5OHRUlVZG8K",
      "include_colab_link": true
    },
    "kernelspec": {
      "name": "python3",
      "display_name": "Python 3"
    }
  },
  "cells": [
    {
      "cell_type": "markdown",
      "metadata": {
        "id": "view-in-github",
        "colab_type": "text"
      },
      "source": [
        "<a href=\"https://colab.research.google.com/github/sushantkumar-estech/Celsius-to-Fahrenheit-using-ANN/blob/master/Develop_A_Simple_Neural_Model_to_convert_Celsius_to_Fahrenheit_using_ANN_in_Colab.ipynb\" target=\"_parent\"><img src=\"https://colab.research.google.com/assets/colab-badge.svg\" alt=\"Open In Colab\"/></a>"
      ]
    },
    {
      "cell_type": "markdown",
      "metadata": {
        "id": "kUW8lIjVCIb8",
        "colab_type": "text"
      },
      "source": [
        "## STEP#0: Import Libraries"
      ]
    },
    {
      "cell_type": "code",
      "metadata": {
        "id": "-y32g6y6CHHb",
        "colab_type": "code",
        "colab": {}
      },
      "source": [
        "# !pip install tensorflow-gpu==2.0.0.alpha0"
      ],
      "execution_count": null,
      "outputs": []
    },
    {
      "cell_type": "code",
      "metadata": {
        "id": "a8ZAvBbDosHK",
        "colab_type": "code",
        "colab": {
          "base_uri": "https://localhost:8080/",
          "height": 683
        },
        "outputId": "b28bf2b2-276e-43df-c601-c3bfc6e8ac6b"
      },
      "source": [
        "#Installing compatible tensorflow \n",
        "!pip install tensorflow\n",
        "try:\n",
        "  %tensorflow_version 1.x\n",
        "except Exception:\n",
        "  pass"
      ],
      "execution_count": null,
      "outputs": [
        {
          "output_type": "stream",
          "text": [
            "Requirement already satisfied: tensorflow in /usr/local/lib/python3.6/dist-packages (2.3.0)\n",
            "Requirement already satisfied: six>=1.12.0 in /usr/local/lib/python3.6/dist-packages (from tensorflow) (1.15.0)\n",
            "Requirement already satisfied: numpy<1.19.0,>=1.16.0 in /usr/local/lib/python3.6/dist-packages (from tensorflow) (1.18.5)\n",
            "Requirement already satisfied: absl-py>=0.7.0 in /usr/local/lib/python3.6/dist-packages (from tensorflow) (0.9.0)\n",
            "Requirement already satisfied: wrapt>=1.11.1 in /usr/local/lib/python3.6/dist-packages (from tensorflow) (1.12.1)\n",
            "Requirement already satisfied: grpcio>=1.8.6 in /usr/local/lib/python3.6/dist-packages (from tensorflow) (1.31.0)\n",
            "Requirement already satisfied: h5py<2.11.0,>=2.10.0 in /usr/local/lib/python3.6/dist-packages (from tensorflow) (2.10.0)\n",
            "Requirement already satisfied: opt-einsum>=2.3.2 in /usr/local/lib/python3.6/dist-packages (from tensorflow) (3.3.0)\n",
            "Requirement already satisfied: termcolor>=1.1.0 in /usr/local/lib/python3.6/dist-packages (from tensorflow) (1.1.0)\n",
            "Requirement already satisfied: google-pasta>=0.1.8 in /usr/local/lib/python3.6/dist-packages (from tensorflow) (0.2.0)\n",
            "Requirement already satisfied: keras-preprocessing<1.2,>=1.1.1 in /usr/local/lib/python3.6/dist-packages (from tensorflow) (1.1.2)\n",
            "Requirement already satisfied: protobuf>=3.9.2 in /usr/local/lib/python3.6/dist-packages (from tensorflow) (3.12.4)\n",
            "Requirement already satisfied: gast==0.3.3 in /usr/local/lib/python3.6/dist-packages (from tensorflow) (0.3.3)\n",
            "Requirement already satisfied: tensorboard<3,>=2.3.0 in /usr/local/lib/python3.6/dist-packages (from tensorflow) (2.3.0)\n",
            "Requirement already satisfied: tensorflow-estimator<2.4.0,>=2.3.0 in /usr/local/lib/python3.6/dist-packages (from tensorflow) (2.3.0)\n",
            "Requirement already satisfied: wheel>=0.26 in /usr/local/lib/python3.6/dist-packages (from tensorflow) (0.34.2)\n",
            "Requirement already satisfied: scipy==1.4.1 in /usr/local/lib/python3.6/dist-packages (from tensorflow) (1.4.1)\n",
            "Requirement already satisfied: astunparse==1.6.3 in /usr/local/lib/python3.6/dist-packages (from tensorflow) (1.6.3)\n",
            "Requirement already satisfied: setuptools in /usr/local/lib/python3.6/dist-packages (from protobuf>=3.9.2->tensorflow) (49.2.0)\n",
            "Requirement already satisfied: markdown>=2.6.8 in /usr/local/lib/python3.6/dist-packages (from tensorboard<3,>=2.3.0->tensorflow) (3.2.2)\n",
            "Requirement already satisfied: requests<3,>=2.21.0 in /usr/local/lib/python3.6/dist-packages (from tensorboard<3,>=2.3.0->tensorflow) (2.23.0)\n",
            "Requirement already satisfied: tensorboard-plugin-wit>=1.6.0 in /usr/local/lib/python3.6/dist-packages (from tensorboard<3,>=2.3.0->tensorflow) (1.7.0)\n",
            "Requirement already satisfied: google-auth<2,>=1.6.3 in /usr/local/lib/python3.6/dist-packages (from tensorboard<3,>=2.3.0->tensorflow) (1.17.2)\n",
            "Requirement already satisfied: google-auth-oauthlib<0.5,>=0.4.1 in /usr/local/lib/python3.6/dist-packages (from tensorboard<3,>=2.3.0->tensorflow) (0.4.1)\n",
            "Requirement already satisfied: werkzeug>=0.11.15 in /usr/local/lib/python3.6/dist-packages (from tensorboard<3,>=2.3.0->tensorflow) (1.0.1)\n",
            "Requirement already satisfied: importlib-metadata; python_version < \"3.8\" in /usr/local/lib/python3.6/dist-packages (from markdown>=2.6.8->tensorboard<3,>=2.3.0->tensorflow) (1.7.0)\n",
            "Requirement already satisfied: idna<3,>=2.5 in /usr/local/lib/python3.6/dist-packages (from requests<3,>=2.21.0->tensorboard<3,>=2.3.0->tensorflow) (2.10)\n",
            "Requirement already satisfied: chardet<4,>=3.0.2 in /usr/local/lib/python3.6/dist-packages (from requests<3,>=2.21.0->tensorboard<3,>=2.3.0->tensorflow) (3.0.4)\n",
            "Requirement already satisfied: urllib3!=1.25.0,!=1.25.1,<1.26,>=1.21.1 in /usr/local/lib/python3.6/dist-packages (from requests<3,>=2.21.0->tensorboard<3,>=2.3.0->tensorflow) (1.24.3)\n",
            "Requirement already satisfied: certifi>=2017.4.17 in /usr/local/lib/python3.6/dist-packages (from requests<3,>=2.21.0->tensorboard<3,>=2.3.0->tensorflow) (2020.6.20)\n",
            "Requirement already satisfied: rsa<5,>=3.1.4; python_version >= \"3\" in /usr/local/lib/python3.6/dist-packages (from google-auth<2,>=1.6.3->tensorboard<3,>=2.3.0->tensorflow) (4.6)\n",
            "Requirement already satisfied: cachetools<5.0,>=2.0.0 in /usr/local/lib/python3.6/dist-packages (from google-auth<2,>=1.6.3->tensorboard<3,>=2.3.0->tensorflow) (4.1.1)\n",
            "Requirement already satisfied: pyasn1-modules>=0.2.1 in /usr/local/lib/python3.6/dist-packages (from google-auth<2,>=1.6.3->tensorboard<3,>=2.3.0->tensorflow) (0.2.8)\n",
            "Requirement already satisfied: requests-oauthlib>=0.7.0 in /usr/local/lib/python3.6/dist-packages (from google-auth-oauthlib<0.5,>=0.4.1->tensorboard<3,>=2.3.0->tensorflow) (1.3.0)\n",
            "Requirement already satisfied: zipp>=0.5 in /usr/local/lib/python3.6/dist-packages (from importlib-metadata; python_version < \"3.8\"->markdown>=2.6.8->tensorboard<3,>=2.3.0->tensorflow) (3.1.0)\n",
            "Requirement already satisfied: pyasn1>=0.1.3 in /usr/local/lib/python3.6/dist-packages (from rsa<5,>=3.1.4; python_version >= \"3\"->google-auth<2,>=1.6.3->tensorboard<3,>=2.3.0->tensorflow) (0.4.8)\n",
            "Requirement already satisfied: oauthlib>=3.0.0 in /usr/local/lib/python3.6/dist-packages (from requests-oauthlib>=0.7.0->google-auth-oauthlib<0.5,>=0.4.1->tensorboard<3,>=2.3.0->tensorflow) (3.1.0)\n",
            "TensorFlow 1.x selected.\n"
          ],
          "name": "stdout"
        }
      ]
    },
    {
      "cell_type": "code",
      "metadata": {
        "id": "3XKxhNdYC1Sh",
        "colab_type": "code",
        "colab": {
          "base_uri": "https://localhost:8080/",
          "height": 71
        },
        "outputId": "45dba650-8ed2-432e-e7d4-ee8335d4962d"
      },
      "source": [
        "#Importing required libraries for data processing and visualization\n",
        "\n",
        "import tensorflow as tf\n",
        "import pandas as pd\n",
        "import seaborn as sns  # to plot images and statical version of data\n",
        "import numpy as np\n",
        "import matplotlib.pyplot as plt\n"
      ],
      "execution_count": null,
      "outputs": [
        {
          "output_type": "stream",
          "text": [
            "/usr/local/lib/python3.6/dist-packages/statsmodels/tools/_testing.py:19: FutureWarning: pandas.util.testing is deprecated. Use the functions in the public API at pandas.testing instead.\n",
            "  import pandas.util.testing as tm\n"
          ],
          "name": "stderr"
        }
      ]
    },
    {
      "cell_type": "markdown",
      "metadata": {
        "id": "mPv8gmXDCt3z",
        "colab_type": "text"
      },
      "source": [
        "## STEP #1: Import *Dataset*"
      ]
    },
    {
      "cell_type": "code",
      "metadata": {
        "id": "BFRdf793Cz-2",
        "colab_type": "code",
        "colab": {
          "base_uri": "https://localhost:8080/",
          "height": 122
        },
        "outputId": "26eebee4-9443-4f34-bee2-041361f99f3f"
      },
      "source": [
        "#Mouting colab with the drive\n",
        "\n",
        "from google.colab import drive\n",
        "drive.mount('/content/drive')"
      ],
      "execution_count": null,
      "outputs": [
        {
          "output_type": "stream",
          "text": [
            "Go to this URL in a browser: https://accounts.google.com/o/oauth2/auth?client_id=947318989803-6bn6qk8qdgf4n4g3pfee6491hc0brc4i.apps.googleusercontent.com&redirect_uri=urn%3aietf%3awg%3aoauth%3a2.0%3aoob&scope=email%20https%3a%2f%2fwww.googleapis.com%2fauth%2fdocs.test%20https%3a%2f%2fwww.googleapis.com%2fauth%2fdrive%20https%3a%2f%2fwww.googleapis.com%2fauth%2fdrive.photos.readonly%20https%3a%2f%2fwww.googleapis.com%2fauth%2fpeopleapi.readonly&response_type=code\n",
            "\n",
            "Enter your authorization code:\n",
            "··········\n",
            "Mounted at /content/drive\n"
          ],
          "name": "stdout"
        }
      ]
    },
    {
      "cell_type": "code",
      "metadata": {
        "id": "z3DuF3csDVsC",
        "colab_type": "code",
        "colab": {}
      },
      "source": [
        "#Importing dataset from drive\n",
        "\n",
        "temp_df = pd.read_csv('/content/drive/My Drive/ML_Dataset/Celsius to Fahrenheit/Celsius to Fahrenheit.csv')"
      ],
      "execution_count": null,
      "outputs": []
    },
    {
      "cell_type": "code",
      "metadata": {
        "id": "E8yWe1SxEqp8",
        "colab_type": "code",
        "colab": {
          "base_uri": "https://localhost:8080/",
          "height": 204
        },
        "outputId": "cd5c0731-762a-4d83-feaa-3e14e4461b8d"
      },
      "source": [
        "temp_df.head() #showing top rows"
      ],
      "execution_count": null,
      "outputs": [
        {
          "output_type": "execute_result",
          "data": {
            "text/html": [
              "<div>\n",
              "<style scoped>\n",
              "    .dataframe tbody tr th:only-of-type {\n",
              "        vertical-align: middle;\n",
              "    }\n",
              "\n",
              "    .dataframe tbody tr th {\n",
              "        vertical-align: top;\n",
              "    }\n",
              "\n",
              "    .dataframe thead th {\n",
              "        text-align: right;\n",
              "    }\n",
              "</style>\n",
              "<table border=\"1\" class=\"dataframe\">\n",
              "  <thead>\n",
              "    <tr style=\"text-align: right;\">\n",
              "      <th></th>\n",
              "      <th>Celsius</th>\n",
              "      <th>Fahrenheit</th>\n",
              "    </tr>\n",
              "  </thead>\n",
              "  <tbody>\n",
              "    <tr>\n",
              "      <th>0</th>\n",
              "      <td>-50</td>\n",
              "      <td>-58.0</td>\n",
              "    </tr>\n",
              "    <tr>\n",
              "      <th>1</th>\n",
              "      <td>-40</td>\n",
              "      <td>-40.0</td>\n",
              "    </tr>\n",
              "    <tr>\n",
              "      <th>2</th>\n",
              "      <td>-30</td>\n",
              "      <td>-22.0</td>\n",
              "    </tr>\n",
              "    <tr>\n",
              "      <th>3</th>\n",
              "      <td>-20</td>\n",
              "      <td>-4.0</td>\n",
              "    </tr>\n",
              "    <tr>\n",
              "      <th>4</th>\n",
              "      <td>-10</td>\n",
              "      <td>14.0</td>\n",
              "    </tr>\n",
              "  </tbody>\n",
              "</table>\n",
              "</div>"
            ],
            "text/plain": [
              "   Celsius  Fahrenheit\n",
              "0      -50       -58.0\n",
              "1      -40       -40.0\n",
              "2      -30       -22.0\n",
              "3      -20        -4.0\n",
              "4      -10        14.0"
            ]
          },
          "metadata": {
            "tags": []
          },
          "execution_count": 5
        }
      ]
    },
    {
      "cell_type": "code",
      "metadata": {
        "id": "2GY3ZDUMEzHK",
        "colab_type": "code",
        "colab": {
          "base_uri": "https://localhost:8080/",
          "height": 204
        },
        "outputId": "c17c8266-0b33-4e79-bde7-05e6d8b35aea"
      },
      "source": [
        "temp_df.tail(5) #last 5 rows of the dataset     "
      ],
      "execution_count": null,
      "outputs": [
        {
          "output_type": "execute_result",
          "data": {
            "text/html": [
              "<div>\n",
              "<style scoped>\n",
              "    .dataframe tbody tr th:only-of-type {\n",
              "        vertical-align: middle;\n",
              "    }\n",
              "\n",
              "    .dataframe tbody tr th {\n",
              "        vertical-align: top;\n",
              "    }\n",
              "\n",
              "    .dataframe thead th {\n",
              "        text-align: right;\n",
              "    }\n",
              "</style>\n",
              "<table border=\"1\" class=\"dataframe\">\n",
              "  <thead>\n",
              "    <tr style=\"text-align: right;\">\n",
              "      <th></th>\n",
              "      <th>Celsius</th>\n",
              "      <th>Fahrenheit</th>\n",
              "    </tr>\n",
              "  </thead>\n",
              "  <tbody>\n",
              "    <tr>\n",
              "      <th>25</th>\n",
              "      <td>20</td>\n",
              "      <td>68.0</td>\n",
              "    </tr>\n",
              "    <tr>\n",
              "      <th>26</th>\n",
              "      <td>30</td>\n",
              "      <td>86.0</td>\n",
              "    </tr>\n",
              "    <tr>\n",
              "      <th>27</th>\n",
              "      <td>40</td>\n",
              "      <td>104.0</td>\n",
              "    </tr>\n",
              "    <tr>\n",
              "      <th>28</th>\n",
              "      <td>50</td>\n",
              "      <td>122.0</td>\n",
              "    </tr>\n",
              "    <tr>\n",
              "      <th>29</th>\n",
              "      <td>60</td>\n",
              "      <td>140.0</td>\n",
              "    </tr>\n",
              "  </tbody>\n",
              "</table>\n",
              "</div>"
            ],
            "text/plain": [
              "    Celsius  Fahrenheit\n",
              "25       20        68.0\n",
              "26       30        86.0\n",
              "27       40       104.0\n",
              "28       50       122.0\n",
              "29       60       140.0"
            ]
          },
          "metadata": {
            "tags": []
          },
          "execution_count": 6
        }
      ]
    },
    {
      "cell_type": "code",
      "metadata": {
        "id": "srFhCdPgE6oB",
        "colab_type": "code",
        "colab": {
          "base_uri": "https://localhost:8080/",
          "height": 297
        },
        "outputId": "8cbf31c6-66ce-489a-e26a-5a63b6aa047a"
      },
      "source": [
        "temp_df.describe() #description about dataset"
      ],
      "execution_count": null,
      "outputs": [
        {
          "output_type": "execute_result",
          "data": {
            "text/html": [
              "<div>\n",
              "<style scoped>\n",
              "    .dataframe tbody tr th:only-of-type {\n",
              "        vertical-align: middle;\n",
              "    }\n",
              "\n",
              "    .dataframe tbody tr th {\n",
              "        vertical-align: top;\n",
              "    }\n",
              "\n",
              "    .dataframe thead th {\n",
              "        text-align: right;\n",
              "    }\n",
              "</style>\n",
              "<table border=\"1\" class=\"dataframe\">\n",
              "  <thead>\n",
              "    <tr style=\"text-align: right;\">\n",
              "      <th></th>\n",
              "      <th>Celsius</th>\n",
              "      <th>Fahrenheit</th>\n",
              "    </tr>\n",
              "  </thead>\n",
              "  <tbody>\n",
              "    <tr>\n",
              "      <th>count</th>\n",
              "      <td>30.000000</td>\n",
              "      <td>30.000000</td>\n",
              "    </tr>\n",
              "    <tr>\n",
              "      <th>mean</th>\n",
              "      <td>2.000000</td>\n",
              "      <td>35.600000</td>\n",
              "    </tr>\n",
              "    <tr>\n",
              "      <th>std</th>\n",
              "      <td>22.780815</td>\n",
              "      <td>41.005466</td>\n",
              "    </tr>\n",
              "    <tr>\n",
              "      <th>min</th>\n",
              "      <td>-50.000000</td>\n",
              "      <td>-58.000000</td>\n",
              "    </tr>\n",
              "    <tr>\n",
              "      <th>25%</th>\n",
              "      <td>-6.750000</td>\n",
              "      <td>19.850000</td>\n",
              "    </tr>\n",
              "    <tr>\n",
              "      <th>50%</th>\n",
              "      <td>0.500000</td>\n",
              "      <td>32.900000</td>\n",
              "    </tr>\n",
              "    <tr>\n",
              "      <th>75%</th>\n",
              "      <td>7.750000</td>\n",
              "      <td>45.950000</td>\n",
              "    </tr>\n",
              "    <tr>\n",
              "      <th>max</th>\n",
              "      <td>60.000000</td>\n",
              "      <td>140.000000</td>\n",
              "    </tr>\n",
              "  </tbody>\n",
              "</table>\n",
              "</div>"
            ],
            "text/plain": [
              "         Celsius  Fahrenheit\n",
              "count  30.000000   30.000000\n",
              "mean    2.000000   35.600000\n",
              "std    22.780815   41.005466\n",
              "min   -50.000000  -58.000000\n",
              "25%    -6.750000   19.850000\n",
              "50%     0.500000   32.900000\n",
              "75%     7.750000   45.950000\n",
              "max    60.000000  140.000000"
            ]
          },
          "metadata": {
            "tags": []
          },
          "execution_count": 7
        }
      ]
    },
    {
      "cell_type": "code",
      "metadata": {
        "id": "3_-WuhCFFBWO",
        "colab_type": "code",
        "colab": {
          "base_uri": "https://localhost:8080/",
          "height": 170
        },
        "outputId": "06c9dd17-cbd7-43f0-8f47-0a1491196ac5"
      },
      "source": [
        "temp_df.info()"
      ],
      "execution_count": null,
      "outputs": [
        {
          "output_type": "stream",
          "text": [
            "<class 'pandas.core.frame.DataFrame'>\n",
            "RangeIndex: 30 entries, 0 to 29\n",
            "Data columns (total 2 columns):\n",
            " #   Column      Non-Null Count  Dtype  \n",
            "---  ------      --------------  -----  \n",
            " 0   Celsius     30 non-null     int64  \n",
            " 1   Fahrenheit  30 non-null     float64\n",
            "dtypes: float64(1), int64(1)\n",
            "memory usage: 608.0 bytes\n"
          ],
          "name": "stdout"
        }
      ]
    },
    {
      "cell_type": "markdown",
      "metadata": {
        "id": "79W-67WaFnXI",
        "colab_type": "text"
      },
      "source": [
        "`## STEP #2: Visualization of Dataset`"
      ]
    },
    {
      "cell_type": "code",
      "metadata": {
        "id": "0UJp1zltFRhr",
        "colab_type": "code",
        "colab": {
          "base_uri": "https://localhost:8080/",
          "height": 296
        },
        "outputId": "a51e1902-d45c-40ce-c3f3-ba4421c64374"
      },
      "source": [
        "sns.scatterplot(temp_df['Celsius'], temp_df['Fahrenheit'])"
      ],
      "execution_count": null,
      "outputs": [
        {
          "output_type": "execute_result",
          "data": {
            "text/plain": [
              "<matplotlib.axes._subplots.AxesSubplot at 0x7f857fde7cc0>"
            ]
          },
          "metadata": {
            "tags": []
          },
          "execution_count": 9
        },
        {
          "output_type": "display_data",
          "data": {
            "image/png": "[encoded data removed]",
            "text/plain": [
              "<Figure size 432x288 with 1 Axes>"
            ]
          },
          "metadata": {
            "tags": [],
            "needs_background": "light"
          }
        }
      ]
    },
    {
      "cell_type": "markdown",
      "metadata": {
        "id": "X8Fg940rGEUb",
        "colab_type": "text"
      },
      "source": [
        "## STEP #3: Creating Training & Testing Dataset"
      ]
    },
    {
      "cell_type": "code",
      "metadata": {
        "id": "q06xPfhmF6Wq",
        "colab_type": "code",
        "colab": {}
      },
      "source": [
        "X_train = temp_df['Celsius']\n",
        "y_train = temp_df['Fahrenheit']"
      ],
      "execution_count": null,
      "outputs": []
    },
    {
      "cell_type": "markdown",
      "metadata": {
        "id": "LSkF2APRGxpN",
        "colab_type": "text"
      },
      "source": [
        "## STEP #4: Build & Train the Model"
      ]
    },
    {
      "cell_type": "code",
      "metadata": {
        "id": "R9fLwFNxGw-o",
        "colab_type": "code",
        "colab": {
          "base_uri": "https://localhost:8080/",
          "height": 34
        },
        "outputId": "f0cf33f6-d8bc-4a01-f2cd-b71157b4ba20"
      },
      "source": [
        "X_train.shape"
      ],
      "execution_count": null,
      "outputs": [
        {
          "output_type": "execute_result",
          "data": {
            "text/plain": [
              "(30,)"
            ]
          },
          "metadata": {
            "tags": []
          },
          "execution_count": 11
        }
      ]
    },
    {
      "cell_type": "code",
      "metadata": {
        "id": "uJh68ZGCGopj",
        "colab_type": "code",
        "colab": {
          "base_uri": "https://localhost:8080/",
          "height": 34
        },
        "outputId": "400eef54-f5b8-410c-ce91-662c81d76a7b"
      },
      "source": [
        "y_train.shape"
      ],
      "execution_count": null,
      "outputs": [
        {
          "output_type": "execute_result",
          "data": {
            "text/plain": [
              "(30,)"
            ]
          },
          "metadata": {
            "tags": []
          },
          "execution_count": 12
        }
      ]
    },
    {
      "cell_type": "code",
      "metadata": {
        "id": "V2qhxbxxG-80",
        "colab_type": "code",
        "colab": {}
      },
      "source": [
        "# in tensorflow 2.0, keras API come automatically with tensorflow 2.0\n",
        "model = tf.keras.Sequential()\n",
        "model.add(tf.keras.layers.Dense(units= 10 , input_shape = (1,)))\n",
        "#Dense when we have fully connected atificial neural network\n",
        "# now we are adding one more layer to the network\n",
        "model.add(tf.keras.layers.Dense(units = 10))\n",
        "# now adding the output layer\n",
        "model.add(tf.keras.layers.Dense(units = 1))"
      ],
      "execution_count": null,
      "outputs": []
    },
    {
      "cell_type": "code",
      "metadata": {
        "id": "MS5BObu7HocD",
        "colab_type": "code",
        "colab": {
          "base_uri": "https://localhost:8080/",
          "height": 255
        },
        "outputId": "444a07dc-59f8-4a97-814f-48a43e79f252"
      },
      "source": [
        "model.summary()"
      ],
      "execution_count": null,
      "outputs": [
        {
          "output_type": "stream",
          "text": [
            "Model: \"sequential_18\"\n",
            "_________________________________________________________________\n",
            "Layer (type)                 Output Shape              Param #   \n",
            "=================================================================\n",
            "dense_44 (Dense)             (None, 10)                20        \n",
            "_________________________________________________________________\n",
            "dense_45 (Dense)             (None, 10)                110       \n",
            "_________________________________________________________________\n",
            "dense_46 (Dense)             (None, 1)                 11        \n",
            "=================================================================\n",
            "Total params: 141\n",
            "Trainable params: 141\n",
            "Non-trainable params: 0\n",
            "_________________________________________________________________\n"
          ],
          "name": "stdout"
        }
      ]
    },
    {
      "cell_type": "code",
      "metadata": {
        "id": "GH7sXWvvHrHQ",
        "colab_type": "code",
        "colab": {}
      },
      "source": [
        "model.compile(optimizer= tf.keras.optimizers.Adam(1), loss = 'mean_squared_error')"
      ],
      "execution_count": null,
      "outputs": []
    },
    {
      "cell_type": "code",
      "metadata": {
        "id": "J4WdGQiFIMUc",
        "colab_type": "code",
        "colab": {
          "base_uri": "https://localhost:8080/",
          "height": 1000
        },
        "outputId": "8b81aae3-942a-427e-a2ed-c644e1f35503"
      },
      "source": [
        "epochs_hist = model.fit(X_train, y_train, epochs=100)"
      ],
      "execution_count": null,
      "outputs": [
        {
          "output_type": "stream",
          "text": [
            "Train on 30 samples\n",
            "Epoch 1/100\n",
            "30/30 [==============================] - 1s 20ms/sample - loss: 3268.1162\n",
            "Epoch 2/100\n",
            "30/30 [==============================] - 0s 198us/sample - loss: 61145.6016\n",
            "Epoch 3/100\n",
            "30/30 [==============================] - 0s 189us/sample - loss: 1798122.2500\n",
            "Epoch 4/100\n",
            "30/30 [==============================] - 0s 186us/sample - loss: 85417.1953\n",
            "Epoch 5/100\n",
            "30/30 [==============================] - 0s 108us/sample - loss: 5350.3647\n",
            "Epoch 6/100\n",
            "30/30 [==============================] - 0s 106us/sample - loss: 67490.9766\n",
            "Epoch 7/100\n",
            "30/30 [==============================] - 0s 132us/sample - loss: 683866.1875\n",
            "Epoch 8/100\n",
            "30/30 [==============================] - 0s 222us/sample - loss: 8559.7334\n",
            "Epoch 9/100\n",
            "30/30 [==============================] - 0s 119us/sample - loss: 967088.6250\n",
            "Epoch 10/100\n",
            "30/30 [==============================] - 0s 123us/sample - loss: 7190.4424\n",
            "Epoch 11/100\n",
            "30/30 [==============================] - 0s 103us/sample - loss: 750904.3750\n",
            "Epoch 12/100\n",
            "30/30 [==============================] - 0s 111us/sample - loss: 42179.8516\n",
            "Epoch 13/100\n",
            "30/30 [==============================] - 0s 129us/sample - loss: 217213.4688\n",
            "Epoch 14/100\n",
            "30/30 [==============================] - 0s 139us/sample - loss: 87759.6172\n",
            "Epoch 15/100\n",
            "30/30 [==============================] - 0s 77us/sample - loss: 237922.0000\n",
            "Epoch 16/100\n",
            "30/30 [==============================] - 0s 152us/sample - loss: 159629.4375\n",
            "Epoch 17/100\n",
            "30/30 [==============================] - 0s 160us/sample - loss: 49125.3281\n",
            "Epoch 18/100\n",
            "30/30 [==============================] - 0s 75us/sample - loss: 188028.4062\n",
            "Epoch 19/100\n",
            "30/30 [==============================] - 0s 122us/sample - loss: 39438.9531\n",
            "Epoch 20/100\n",
            "30/30 [==============================] - 0s 138us/sample - loss: 26514.9297\n",
            "Epoch 21/100\n",
            "30/30 [==============================] - 0s 106us/sample - loss: 68838.3906\n",
            "Epoch 22/100\n",
            "30/30 [==============================] - 0s 76us/sample - loss: 21880.6602\n",
            "Epoch 23/100\n",
            "30/30 [==============================] - 0s 79us/sample - loss: 1649.7849\n",
            "Epoch 24/100\n",
            "30/30 [==============================] - 0s 122us/sample - loss: 36846.3750\n",
            "Epoch 25/100\n",
            "30/30 [==============================] - 0s 112us/sample - loss: 58893.5234\n",
            "Epoch 26/100\n",
            "30/30 [==============================] - 0s 110us/sample - loss: 32000.8203\n",
            "Epoch 27/100\n",
            "30/30 [==============================] - 0s 136us/sample - loss: 5138.7666\n",
            "Epoch 28/100\n",
            "30/30 [==============================] - 0s 125us/sample - loss: 4239.8418\n",
            "Epoch 29/100\n",
            "30/30 [==============================] - 0s 105us/sample - loss: 15686.2979\n",
            "Epoch 30/100\n",
            "30/30 [==============================] - 0s 87us/sample - loss: 23510.1621\n",
            "Epoch 31/100\n",
            "30/30 [==============================] - 0s 124us/sample - loss: 21464.3574\n",
            "Epoch 32/100\n",
            "30/30 [==============================] - 0s 103us/sample - loss: 12767.0479\n",
            "Epoch 33/100\n",
            "30/30 [==============================] - 0s 115us/sample - loss: 4056.5422\n",
            "Epoch 34/100\n",
            "30/30 [==============================] - 0s 155us/sample - loss: 80.2840\n",
            "Epoch 35/100\n",
            "30/30 [==============================] - 0s 103us/sample - loss: 2202.7964\n",
            "Epoch 36/100\n",
            "30/30 [==============================] - 0s 97us/sample - loss: 7763.9819\n",
            "Epoch 37/100\n",
            "30/30 [==============================] - 0s 137us/sample - loss: 10828.6523\n",
            "Epoch 38/100\n",
            "30/30 [==============================] - 0s 128us/sample - loss: 7838.1689\n",
            "Epoch 39/100\n",
            "30/30 [==============================] - 0s 137us/sample - loss: 2206.8767\n",
            "Epoch 40/100\n",
            "30/30 [==============================] - 0s 114us/sample - loss: 143.6305\n",
            "Epoch 41/100\n",
            "30/30 [==============================] - 0s 189us/sample - loss: 3575.2478\n",
            "Epoch 42/100\n",
            "30/30 [==============================] - 0s 163us/sample - loss: 7476.0293\n",
            "Epoch 43/100\n",
            "30/30 [==============================] - 0s 163us/sample - loss: 6198.4541\n",
            "Epoch 44/100\n",
            "30/30 [==============================] - 0s 103us/sample - loss: 1988.4362\n",
            "Epoch 45/100\n",
            "30/30 [==============================] - 0s 127us/sample - loss: 163.7902\n",
            "Epoch 46/100\n",
            "30/30 [==============================] - 0s 155us/sample - loss: 1502.2135\n",
            "Epoch 47/100\n",
            "30/30 [==============================] - 0s 149us/sample - loss: 3532.5981\n",
            "Epoch 48/100\n",
            "30/30 [==============================] - 0s 94us/sample - loss: 4170.4561\n",
            "Epoch 49/100\n",
            "30/30 [==============================] - 0s 116us/sample - loss: 3092.0037\n",
            "Epoch 50/100\n",
            "30/30 [==============================] - 0s 158us/sample - loss: 1315.7794\n",
            "Epoch 51/100\n",
            "30/30 [==============================] - 0s 152us/sample - loss: 159.2761\n",
            "Epoch 52/100\n",
            "30/30 [==============================] - 0s 100us/sample - loss: 292.0210\n",
            "Epoch 53/100\n",
            "30/30 [==============================] - 0s 160us/sample - loss: 1229.6589\n",
            "Epoch 54/100\n",
            "30/30 [==============================] - 0s 163us/sample - loss: 1776.9592\n",
            "Epoch 55/100\n",
            "30/30 [==============================] - 0s 195us/sample - loss: 1339.2507\n",
            "Epoch 56/100\n",
            "30/30 [==============================] - 0s 150us/sample - loss: 481.7851\n",
            "Epoch 57/100\n",
            "30/30 [==============================] - 0s 141us/sample - loss: 16.8438\n",
            "Epoch 58/100\n",
            "30/30 [==============================] - 0s 129us/sample - loss: 148.2195\n",
            "Epoch 59/100\n",
            "30/30 [==============================] - 0s 94us/sample - loss: 562.0355\n",
            "Epoch 60/100\n",
            "30/30 [==============================] - 0s 167us/sample - loss: 870.5276\n",
            "Epoch 61/100\n",
            "30/30 [==============================] - 0s 174us/sample - loss: 874.9539\n",
            "Epoch 62/100\n",
            "30/30 [==============================] - 0s 158us/sample - loss: 608.5651\n",
            "Epoch 63/100\n",
            "30/30 [==============================] - 0s 155us/sample - loss: 259.6077\n",
            "Epoch 64/100\n",
            "30/30 [==============================] - 0s 150us/sample - loss: 41.7440\n",
            "Epoch 65/100\n",
            "30/30 [==============================] - 0s 137us/sample - loss: 60.7472\n",
            "Epoch 66/100\n",
            "30/30 [==============================] - 0s 114us/sample - loss: 244.3972\n",
            "Epoch 67/100\n",
            "30/30 [==============================] - 0s 137us/sample - loss: 403.1585\n",
            "Epoch 68/100\n",
            "30/30 [==============================] - 0s 110us/sample - loss: 395.3079\n",
            "Epoch 69/100\n",
            "30/30 [==============================] - 0s 145us/sample - loss: 241.2607\n",
            "Epoch 70/100\n",
            "30/30 [==============================] - 0s 110us/sample - loss: 73.3974\n",
            "Epoch 71/100\n",
            "30/30 [==============================] - 0s 100us/sample - loss: 1.1045\n",
            "Epoch 72/100\n",
            "30/30 [==============================] - 0s 135us/sample - loss: 37.4500\n",
            "Epoch 73/100\n",
            "30/30 [==============================] - 0s 138us/sample - loss: 122.2949\n",
            "Epoch 74/100\n",
            "30/30 [==============================] - 0s 144us/sample - loss: 183.6228\n",
            "Epoch 75/100\n",
            "30/30 [==============================] - 0s 112us/sample - loss: 182.9045\n",
            "Epoch 76/100\n",
            "30/30 [==============================] - 0s 149us/sample - loss: 127.5093\n",
            "Epoch 77/100\n",
            "30/30 [==============================] - 0s 384us/sample - loss: 56.1048\n",
            "Epoch 78/100\n",
            "30/30 [==============================] - 0s 135us/sample - loss: 10.7956\n",
            "Epoch 79/100\n",
            "30/30 [==============================] - 0s 143us/sample - loss: 11.4442\n",
            "Epoch 80/100\n",
            "30/30 [==============================] - 0s 174us/sample - loss: 45.7778\n",
            "Epoch 81/100\n",
            "30/30 [==============================] - 0s 147us/sample - loss: 81.1275\n",
            "Epoch 82/100\n",
            "30/30 [==============================] - 0s 143us/sample - loss: 89.5131\n",
            "Epoch 83/100\n",
            "30/30 [==============================] - 0s 103us/sample - loss: 66.6868\n",
            "Epoch 84/100\n",
            "30/30 [==============================] - 0s 129us/sample - loss: 30.8514\n",
            "Epoch 85/100\n",
            "30/30 [==============================] - 0s 134us/sample - loss: 5.3186\n",
            "Epoch 86/100\n",
            "30/30 [==============================] - 0s 130us/sample - loss: 1.6971\n",
            "Epoch 87/100\n",
            "30/30 [==============================] - 0s 163us/sample - loss: 15.3549\n",
            "Epoch 88/100\n",
            "30/30 [==============================] - 0s 105us/sample - loss: 32.3841\n",
            "Epoch 89/100\n",
            "30/30 [==============================] - 0s 112us/sample - loss: 40.1740\n",
            "Epoch 90/100\n",
            "30/30 [==============================] - 0s 134us/sample - loss: 34.4780\n",
            "Epoch 91/100\n",
            "30/30 [==============================] - 0s 88us/sample - loss: 20.1248\n",
            "Epoch 92/100\n",
            "30/30 [==============================] - 0s 116us/sample - loss: 6.4671\n",
            "Epoch 93/100\n",
            "30/30 [==============================] - 0s 119us/sample - loss: 0.9813\n",
            "Epoch 94/100\n",
            "30/30 [==============================] - 0s 102us/sample - loss: 4.8872\n",
            "Epoch 95/100\n",
            "30/30 [==============================] - 0s 145us/sample - loss: 13.2291\n",
            "Epoch 96/100\n",
            "30/30 [==============================] - 0s 100us/sample - loss: 18.9906\n",
            "Epoch 97/100\n",
            "30/30 [==============================] - 0s 121us/sample - loss: 18.0894\n",
            "Epoch 98/100\n",
            "30/30 [==============================] - 0s 130us/sample - loss: 11.6446\n",
            "Epoch 99/100\n",
            "30/30 [==============================] - 0s 132us/sample - loss: 4.2831\n",
            "Epoch 100/100\n",
            "30/30 [==============================] - 0s 109us/sample - loss: 0.3748\n"
          ],
          "name": "stdout"
        }
      ]
    },
    {
      "cell_type": "code",
      "metadata": {
        "id": "I039pt4cIY0S",
        "colab_type": "code",
        "colab": {}
      },
      "source": [
        ""
      ],
      "execution_count": null,
      "outputs": []
    },
    {
      "cell_type": "markdown",
      "metadata": {
        "id": "lmFTFUOsJhMo",
        "colab_type": "text"
      },
      "source": [
        "## STEP #5: Evaluating the Model"
      ]
    },
    {
      "cell_type": "code",
      "metadata": {
        "id": "dZDPCnVDJmGc",
        "colab_type": "code",
        "colab": {
          "base_uri": "https://localhost:8080/",
          "height": 34
        },
        "outputId": "1a0cbc87-7ca6-42e0-ed30-3a61013db6fd"
      },
      "source": [
        "epochs_hist.history.keys()"
      ],
      "execution_count": null,
      "outputs": [
        {
          "output_type": "execute_result",
          "data": {
            "text/plain": [
              "dict_keys(['loss'])"
            ]
          },
          "metadata": {
            "tags": []
          },
          "execution_count": 188
        }
      ]
    },
    {
      "cell_type": "code",
      "metadata": {
        "id": "uv53Sz-DJu1i",
        "colab_type": "code",
        "colab": {
          "base_uri": "https://localhost:8080/",
          "height": 295
        },
        "outputId": "558a40b9-f789-4dd7-ecfb-85f7fb837fb2"
      },
      "source": [
        "plt.plot(epochs_hist.history['loss'])\n",
        "plt.title('Model loss Progress during training')\n",
        "plt.xlabel('Epochs')\n",
        "plt.ylabel('Training loss')\n",
        "plt.legend('Training loss')\n",
        "plt.show()"
      ],
      "execution_count": null,
      "outputs": [
        {
          "output_type": "display_data",
          "data": {
            "image/png": "[encoded data removed]",
            "text/plain": [
              "<Figure size 432x288 with 1 Axes>"
            ]
          },
          "metadata": {
            "tags": [],
            "needs_background": "light"
          }
        }
      ]
    },
    {
      "cell_type": "code",
      "metadata": {
        "id": "D_gbRS4lJ3pq",
        "colab_type": "code",
        "colab": {
          "base_uri": "https://localhost:8080/",
          "height": 714
        },
        "outputId": "bdf35a78-6fd9-475c-f98e-924cfe86a447"
      },
      "source": [
        "model.get_weights()"
      ],
      "execution_count": null,
      "outputs": [
        {
          "output_type": "execute_result",
          "data": {
            "text/plain": [
              "[array([[-0.61971986,  0.01195671, -0.59212005, -0.45683125, -0.02921879,\n",
              "         -0.05662349, -0.03264236,  0.02024923, -0.44477683,  0.03591322]],\n",
              "       dtype=float32),\n",
              " array([-2.6420949 , -0.39772347, -3.1462486 , -1.3264107 , -0.03893621,\n",
              "         1.0141823 ,  0.50277054,  0.8993053 ,  3.980241  , -0.53568846],\n",
              "       dtype=float32),\n",
              " array([[-1.4054306 , -0.28386906, -0.70785004, -0.200296  , -1.0167828 ,\n",
              "         -0.7535688 , -0.14680028,  0.36481923, -0.81497383,  0.03124018],\n",
              "        [-0.7706648 , -0.04107166,  3.218549  , -0.43200916,  3.9725113 ,\n",
              "          3.5589848 ,  0.62615806, -1.7409754 ,  3.5530763 ,  1.2832867 ],\n",
              "        [-1.4872667 , -0.08818862, -0.45731273, -0.16456333, -0.9054678 ,\n",
              "         -0.9847047 , -0.42396182, -0.01467231, -0.6703229 ,  0.04073911],\n",
              "        [-1.1012689 ,  0.0959546 , -0.7046379 ,  0.6073303 , -0.6278147 ,\n",
              "         -0.6440739 , -0.27232566, -0.35170144, -0.8084434 , -0.13024342],\n",
              "        [-0.90911335, -0.17928042, -3.3125517 ,  0.6178597 , -3.4667008 ,\n",
              "         -3.296978  , -0.9831975 ,  1.3560292 , -3.2123942 , -0.86228484],\n",
              "        [-0.44861934, -0.34806117, -2.9963133 ,  0.36313695, -3.2702572 ,\n",
              "         -3.7288804 , -0.62772715,  1.3775458 , -3.3102717 , -1.4136276 ],\n",
              "        [-1.0708303 ,  0.3385282 ,  3.942391  , -1.2739795 ,  3.7095256 ,\n",
              "          3.4985151 ,  0.05918135, -1.5349685 ,  3.9161284 ,  1.0518938 ],\n",
              "        [ 0.4642308 ,  0.1348694 ,  3.687114  , -1.1869882 ,  3.3483968 ,\n",
              "          3.3458302 ,  0.62617475, -1.7021011 ,  3.3705091 ,  0.41954032],\n",
              "        [-1.7563508 , -0.15609898,  0.27751872,  0.12408136,  1.3504924 ,\n",
              "          0.6534375 , -0.0108102 , -0.43960047,  0.6012325 ,  0.19880915],\n",
              "        [ 1.7549303 ,  0.7094458 ,  3.5124555 , -0.5696627 ,  2.9502215 ,\n",
              "          3.2762537 ,  0.17621785, -0.85704273,  2.4616015 ,  1.1689883 ]],\n",
              "       dtype=float32),\n",
              " array([ 9.560259 ,  2.1397278, -5.874946 , -1.5407847, -7.323672 ,\n",
              "        -4.843875 ,  1.993085 , -0.1200979, -7.527252 ,  0.8839221],\n",
              "       dtype=float32),\n",
              " array([[ 0.31630853],\n",
              "        [ 1.8918803 ],\n",
              "        [-0.15077901],\n",
              "        [-1.6636832 ],\n",
              "        [-0.17224461],\n",
              "        [-0.22159643],\n",
              "        [ 1.6418227 ],\n",
              "        [-1.3230855 ],\n",
              "        [-0.27141988],\n",
              "        [ 1.3867841 ]], dtype=float32),\n",
              " array([13.065851], dtype=float32)]"
            ]
          },
          "metadata": {
            "tags": []
          },
          "execution_count": 190
        }
      ]
    },
    {
      "cell_type": "code",
      "metadata": {
        "id": "yBgd4NQJKzU3",
        "colab_type": "code",
        "colab": {
          "base_uri": "https://localhost:8080/",
          "height": 34
        },
        "outputId": "4f27d0b0-c9e9-434b-f73d-b5497a7ff425"
      },
      "source": [
        "# Use the same model to perform predictions\n",
        "Temp_C = 12\n",
        "Temp_F = model.predict([Temp_C])\n",
        "print('Temprature in Fahrenheit using simple ANN=', Temp_F)"
      ],
      "execution_count": null,
      "outputs": [
        {
          "output_type": "stream",
          "text": [
            "Temprature in Fahrenheit using simple ANN= [[52.688072]]\n"
          ],
          "name": "stdout"
        }
      ]
    },
    {
      "cell_type": "code",
      "metadata": {
        "id": "xT7qFFZDLL-6",
        "colab_type": "code",
        "colab": {
          "base_uri": "https://localhost:8080/",
          "height": 34
        },
        "outputId": "33082dd3-7ae3-4b56-c13f-440d19d4ad77"
      },
      "source": [
        "# Lets confirm with the equation\n",
        "Temp_F = 9/5 * Temp_C + 32\n",
        "print('Temprature in Fahrenheit using normal equation=', Temp_F)"
      ],
      "execution_count": null,
      "outputs": [
        {
          "output_type": "stream",
          "text": [
            "Temprature in Fahrenheit using normal equation= 53.6\n"
          ],
          "name": "stdout"
        }
      ]
    },
    {
      "cell_type": "code",
      "metadata": {
        "id": "F4XfEAe5LXfU",
        "colab_type": "code",
        "colab": {}
      },
      "source": [
        ""
      ],
      "execution_count": null,
      "outputs": []
    }
  ]
}