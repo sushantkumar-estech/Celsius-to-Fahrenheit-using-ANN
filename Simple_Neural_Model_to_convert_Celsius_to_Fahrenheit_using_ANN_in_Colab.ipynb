{
  "nbformat": 4,
  "nbformat_minor": 0,
  "metadata": {
    "colab": {
      "name": "Simple Neural Model to convert Celsius to Fahrenheit using ANN in Colab.ipynb",
      "provenance": [],
      "collapsed_sections": [],
      "authorship_tag": "ABX9TyOUNQxGkxFQ5lNicxMeAXke",
      "include_colab_link": true
    },
    "kernelspec": {
      "name": "python3",
      "display_name": "Python 3"
    }
  },
  "cells": [
    {
      "cell_type": "markdown",
      "metadata": {
        "id": "view-in-github",
        "colab_type": "text"
      },
      "source": [
        "<a href=\"https://colab.research.google.com/github/sushantkumar-estech/Celsius-to-Fahrenheit-using-ANN/blob/master/Simple_Neural_Model_to_convert_Celsius_to_Fahrenheit_using_ANN_in_Colab.ipynb\" target=\"_parent\"><img src=\"https://colab.research.google.com/assets/colab-badge.svg\" alt=\"Open In Colab\"/></a>"
      ]
    },
    {
      "cell_type": "markdown",
      "metadata": {
        "id": "kUW8lIjVCIb8",
        "colab_type": "text"
      },
      "source": [
        "## STEP#0: Import Libraries"
      ]
    },
    {
      "cell_type": "code",
      "metadata": {
        "id": "-y32g6y6CHHb",
        "colab_type": "code",
        "colab": {}
      },
      "source": [
        "# !pip install tensorflow-gpu==2.0.0.alpha0"
      ],
      "execution_count": 15,
      "outputs": []
    },
    {
      "cell_type": "code",
      "metadata": {
        "id": "a8ZAvBbDosHK",
        "colab_type": "code",
        "colab": {
          "base_uri": "https://localhost:8080/",
          "height": 408
        },
        "outputId": "2818c247-157b-4d0c-bcb5-50b9b3df576b"
      },
      "source": [
        "#Installing compatible tensorflow \n",
        "!pip install tensorflow\n",
        "try:\n",
        "  %tensorflow_version 1.x\n",
        "except Exception:\n",
        "  pass"
      ],
      "execution_count": 16,
      "outputs": [
        {
          "output_type": "stream",
          "text": [
            "Requirement already satisfied: tensorflow in /tensorflow-1.15.2/python3.6 (1.15.2)\n",
            "Requirement already satisfied: gast==0.2.2 in /usr/local/lib/python3.6/dist-packages (from tensorflow) (0.2.2)\n",
            "Requirement already satisfied: numpy<2.0,>=1.16.0 in /usr/local/lib/python3.6/dist-packages (from tensorflow) (1.18.5)\n",
            "Requirement already satisfied: protobuf>=3.6.1 in /usr/local/lib/python3.6/dist-packages (from tensorflow) (3.12.4)\n",
            "Requirement already satisfied: astor>=0.6.0 in /usr/local/lib/python3.6/dist-packages (from tensorflow) (0.8.1)\n",
            "Requirement already satisfied: wrapt>=1.11.1 in /usr/local/lib/python3.6/dist-packages (from tensorflow) (1.12.1)\n",
            "Requirement already satisfied: tensorboard<1.16.0,>=1.15.0 in /tensorflow-1.15.2/python3.6 (from tensorflow) (1.15.0)\n",
            "Requirement already satisfied: tensorflow-estimator==1.15.1 in /tensorflow-1.15.2/python3.6 (from tensorflow) (1.15.1)\n",
            "Requirement already satisfied: grpcio>=1.8.6 in /usr/local/lib/python3.6/dist-packages (from tensorflow) (1.31.0)\n",
            "Requirement already satisfied: google-pasta>=0.1.6 in /usr/local/lib/python3.6/dist-packages (from tensorflow) (0.2.0)\n",
            "Requirement already satisfied: wheel>=0.26; python_version >= \"3\" in /usr/local/lib/python3.6/dist-packages (from tensorflow) (0.34.2)\n",
            "Requirement already satisfied: six>=1.10.0 in /usr/local/lib/python3.6/dist-packages (from tensorflow) (1.15.0)\n",
            "Requirement already satisfied: keras-applications>=1.0.8 in /tensorflow-1.15.2/python3.6 (from tensorflow) (1.0.8)\n",
            "Requirement already satisfied: absl-py>=0.7.0 in /usr/local/lib/python3.6/dist-packages (from tensorflow) (0.9.0)\n",
            "Requirement already satisfied: opt-einsum>=2.3.2 in /usr/local/lib/python3.6/dist-packages (from tensorflow) (3.3.0)\n",
            "Requirement already satisfied: keras-preprocessing>=1.0.5 in /usr/local/lib/python3.6/dist-packages (from tensorflow) (1.1.2)\n",
            "Requirement already satisfied: termcolor>=1.1.0 in /usr/local/lib/python3.6/dist-packages (from tensorflow) (1.1.0)\n",
            "Requirement already satisfied: setuptools in /usr/local/lib/python3.6/dist-packages (from protobuf>=3.6.1->tensorflow) (49.2.0)\n",
            "Requirement already satisfied: werkzeug>=0.11.15 in /usr/local/lib/python3.6/dist-packages (from tensorboard<1.16.0,>=1.15.0->tensorflow) (1.0.1)\n",
            "Requirement already satisfied: markdown>=2.6.8 in /usr/local/lib/python3.6/dist-packages (from tensorboard<1.16.0,>=1.15.0->tensorflow) (3.2.2)\n",
            "Requirement already satisfied: h5py in /usr/local/lib/python3.6/dist-packages (from keras-applications>=1.0.8->tensorflow) (2.10.0)\n",
            "Requirement already satisfied: importlib-metadata; python_version < \"3.8\" in /usr/local/lib/python3.6/dist-packages (from markdown>=2.6.8->tensorboard<1.16.0,>=1.15.0->tensorflow) (1.7.0)\n",
            "Requirement already satisfied: zipp>=0.5 in /usr/local/lib/python3.6/dist-packages (from importlib-metadata; python_version < \"3.8\"->markdown>=2.6.8->tensorboard<1.16.0,>=1.15.0->tensorflow) (3.1.0)\n"
          ],
          "name": "stdout"
        }
      ]
    },
    {
      "cell_type": "code",
      "metadata": {
        "id": "3XKxhNdYC1Sh",
        "colab_type": "code",
        "colab": {}
      },
      "source": [
        "#Importing required libraries for data processing and visualization\n",
        "\n",
        "import tensorflow as tf\n",
        "import pandas as pd\n",
        "import seaborn as sns  # to plot images and statical version of data\n",
        "import numpy as np\n",
        "import matplotlib.pyplot as plt\n"
      ],
      "execution_count": 17,
      "outputs": []
    },
    {
      "cell_type": "code",
      "metadata": {
        "id": "ZDDqpc2b3dUj",
        "colab_type": "code",
        "colab": {
          "base_uri": "https://localhost:8080/",
          "height": 34
        },
        "outputId": "7c3e91ea-8858-4610-8574-2661d96fc04c"
      },
      "source": [
        "print(tf.__version__)"
      ],
      "execution_count": 18,
      "outputs": [
        {
          "output_type": "stream",
          "text": [
            "1.15.2\n"
          ],
          "name": "stdout"
        }
      ]
    },
    {
      "cell_type": "markdown",
      "metadata": {
        "id": "mPv8gmXDCt3z",
        "colab_type": "text"
      },
      "source": [
        "## STEP #1: Import *Dataset*"
      ]
    },
    {
      "cell_type": "code",
      "metadata": {
        "id": "BFRdf793Cz-2",
        "colab_type": "code",
        "colab": {
          "base_uri": "https://localhost:8080/",
          "height": 34
        },
        "outputId": "2a6379fd-8824-434f-abc0-563cc21b5ff9"
      },
      "source": [
        "#Mouting colab with the drive\n",
        "\n",
        "from google.colab import drive\n",
        "drive.mount('/content/drive')"
      ],
      "execution_count": 19,
      "outputs": [
        {
          "output_type": "stream",
          "text": [
            "Drive already mounted at /content/drive; to attempt to forcibly remount, call drive.mount(\"/content/drive\", force_remount=True).\n"
          ],
          "name": "stdout"
        }
      ]
    },
    {
      "cell_type": "code",
      "metadata": {
        "id": "z3DuF3csDVsC",
        "colab_type": "code",
        "colab": {}
      },
      "source": [
        "#Importing dataset from drive\n",
        "\n",
        "temp_df = pd.read_csv('/content/drive/My Drive/ML_Dataset/Celsius to Fahrenheit/Celsius_Fahrenheit_dataset_1000.csv')"
      ],
      "execution_count": 21,
      "outputs": []
    },
    {
      "cell_type": "code",
      "metadata": {
        "id": "E8yWe1SxEqp8",
        "colab_type": "code",
        "colab": {
          "base_uri": "https://localhost:8080/",
          "height": 204
        },
        "outputId": "0a150c14-73fc-446a-ffd6-455dade0970d"
      },
      "source": [
        "temp_df.head() #showing top rows"
      ],
      "execution_count": 22,
      "outputs": [
        {
          "output_type": "execute_result",
          "data": {
            "text/html": [
              "<div>\n",
              "<style scoped>\n",
              "    .dataframe tbody tr th:only-of-type {\n",
              "        vertical-align: middle;\n",
              "    }\n",
              "\n",
              "    .dataframe tbody tr th {\n",
              "        vertical-align: top;\n",
              "    }\n",
              "\n",
              "    .dataframe thead th {\n",
              "        text-align: right;\n",
              "    }\n",
              "</style>\n",
              "<table border=\"1\" class=\"dataframe\">\n",
              "  <thead>\n",
              "    <tr style=\"text-align: right;\">\n",
              "      <th></th>\n",
              "      <th>Celsius</th>\n",
              "      <th>Fahrenheit</th>\n",
              "    </tr>\n",
              "  </thead>\n",
              "  <tbody>\n",
              "    <tr>\n",
              "      <th>0</th>\n",
              "      <td>-67</td>\n",
              "      <td>-88.6</td>\n",
              "    </tr>\n",
              "    <tr>\n",
              "      <th>1</th>\n",
              "      <td>40</td>\n",
              "      <td>104.0</td>\n",
              "    </tr>\n",
              "    <tr>\n",
              "      <th>2</th>\n",
              "      <td>-97</td>\n",
              "      <td>-142.6</td>\n",
              "    </tr>\n",
              "    <tr>\n",
              "      <th>3</th>\n",
              "      <td>57</td>\n",
              "      <td>134.6</td>\n",
              "    </tr>\n",
              "    <tr>\n",
              "      <th>4</th>\n",
              "      <td>-50</td>\n",
              "      <td>-58.0</td>\n",
              "    </tr>\n",
              "  </tbody>\n",
              "</table>\n",
              "</div>"
            ],
            "text/plain": [
              "   Celsius  Fahrenheit\n",
              "0      -67       -88.6\n",
              "1       40       104.0\n",
              "2      -97      -142.6\n",
              "3       57       134.6\n",
              "4      -50       -58.0"
            ]
          },
          "metadata": {
            "tags": []
          },
          "execution_count": 22
        }
      ]
    },
    {
      "cell_type": "code",
      "metadata": {
        "id": "2GY3ZDUMEzHK",
        "colab_type": "code",
        "colab": {
          "base_uri": "https://localhost:8080/",
          "height": 204
        },
        "outputId": "9810ac34-5612-40c6-ac28-c7b53b33eda3"
      },
      "source": [
        "temp_df.tail(5) #last 5 rows of the dataset     "
      ],
      "execution_count": 23,
      "outputs": [
        {
          "output_type": "execute_result",
          "data": {
            "text/html": [
              "<div>\n",
              "<style scoped>\n",
              "    .dataframe tbody tr th:only-of-type {\n",
              "        vertical-align: middle;\n",
              "    }\n",
              "\n",
              "    .dataframe tbody tr th {\n",
              "        vertical-align: top;\n",
              "    }\n",
              "\n",
              "    .dataframe thead th {\n",
              "        text-align: right;\n",
              "    }\n",
              "</style>\n",
              "<table border=\"1\" class=\"dataframe\">\n",
              "  <thead>\n",
              "    <tr style=\"text-align: right;\">\n",
              "      <th></th>\n",
              "      <th>Celsius</th>\n",
              "      <th>Fahrenheit</th>\n",
              "    </tr>\n",
              "  </thead>\n",
              "  <tbody>\n",
              "    <tr>\n",
              "      <th>995</th>\n",
              "      <td>-80</td>\n",
              "      <td>-112.0</td>\n",
              "    </tr>\n",
              "    <tr>\n",
              "      <th>996</th>\n",
              "      <td>50</td>\n",
              "      <td>122.0</td>\n",
              "    </tr>\n",
              "    <tr>\n",
              "      <th>997</th>\n",
              "      <td>18</td>\n",
              "      <td>64.4</td>\n",
              "    </tr>\n",
              "    <tr>\n",
              "      <th>998</th>\n",
              "      <td>47</td>\n",
              "      <td>116.6</td>\n",
              "    </tr>\n",
              "    <tr>\n",
              "      <th>999</th>\n",
              "      <td>-67</td>\n",
              "      <td>-88.6</td>\n",
              "    </tr>\n",
              "  </tbody>\n",
              "</table>\n",
              "</div>"
            ],
            "text/plain": [
              "     Celsius  Fahrenheit\n",
              "995      -80      -112.0\n",
              "996       50       122.0\n",
              "997       18        64.4\n",
              "998       47       116.6\n",
              "999      -67       -88.6"
            ]
          },
          "metadata": {
            "tags": []
          },
          "execution_count": 23
        }
      ]
    },
    {
      "cell_type": "code",
      "metadata": {
        "id": "srFhCdPgE6oB",
        "colab_type": "code",
        "colab": {
          "base_uri": "https://localhost:8080/",
          "height": 297
        },
        "outputId": "8047a264-cd0a-423e-837f-3dfc962bac5f"
      },
      "source": [
        "temp_df.describe() #description about dataset"
      ],
      "execution_count": 24,
      "outputs": [
        {
          "output_type": "execute_result",
          "data": {
            "text/html": [
              "<div>\n",
              "<style scoped>\n",
              "    .dataframe tbody tr th:only-of-type {\n",
              "        vertical-align: middle;\n",
              "    }\n",
              "\n",
              "    .dataframe tbody tr th {\n",
              "        vertical-align: top;\n",
              "    }\n",
              "\n",
              "    .dataframe thead th {\n",
              "        text-align: right;\n",
              "    }\n",
              "</style>\n",
              "<table border=\"1\" class=\"dataframe\">\n",
              "  <thead>\n",
              "    <tr style=\"text-align: right;\">\n",
              "      <th></th>\n",
              "      <th>Celsius</th>\n",
              "      <th>Fahrenheit</th>\n",
              "    </tr>\n",
              "  </thead>\n",
              "  <tbody>\n",
              "    <tr>\n",
              "      <th>count</th>\n",
              "      <td>1000.000000</td>\n",
              "      <td>1000.000000</td>\n",
              "    </tr>\n",
              "    <tr>\n",
              "      <th>mean</th>\n",
              "      <td>-0.029000</td>\n",
              "      <td>31.947800</td>\n",
              "    </tr>\n",
              "    <tr>\n",
              "      <th>std</th>\n",
              "      <td>57.334173</td>\n",
              "      <td>103.201511</td>\n",
              "    </tr>\n",
              "    <tr>\n",
              "      <th>min</th>\n",
              "      <td>-100.000000</td>\n",
              "      <td>-148.000000</td>\n",
              "    </tr>\n",
              "    <tr>\n",
              "      <th>25%</th>\n",
              "      <td>-50.000000</td>\n",
              "      <td>-58.000000</td>\n",
              "    </tr>\n",
              "    <tr>\n",
              "      <th>50%</th>\n",
              "      <td>-2.000000</td>\n",
              "      <td>28.400000</td>\n",
              "    </tr>\n",
              "    <tr>\n",
              "      <th>75%</th>\n",
              "      <td>50.000000</td>\n",
              "      <td>122.000000</td>\n",
              "    </tr>\n",
              "    <tr>\n",
              "      <th>max</th>\n",
              "      <td>100.000000</td>\n",
              "      <td>212.000000</td>\n",
              "    </tr>\n",
              "  </tbody>\n",
              "</table>\n",
              "</div>"
            ],
            "text/plain": [
              "           Celsius   Fahrenheit\n",
              "count  1000.000000  1000.000000\n",
              "mean     -0.029000    31.947800\n",
              "std      57.334173   103.201511\n",
              "min    -100.000000  -148.000000\n",
              "25%     -50.000000   -58.000000\n",
              "50%      -2.000000    28.400000\n",
              "75%      50.000000   122.000000\n",
              "max     100.000000   212.000000"
            ]
          },
          "metadata": {
            "tags": []
          },
          "execution_count": 24
        }
      ]
    },
    {
      "cell_type": "code",
      "metadata": {
        "id": "3_-WuhCFFBWO",
        "colab_type": "code",
        "colab": {
          "base_uri": "https://localhost:8080/",
          "height": 170
        },
        "outputId": "9e4a22df-460c-4985-905b-3a1e39491367"
      },
      "source": [
        "temp_df.info()"
      ],
      "execution_count": 25,
      "outputs": [
        {
          "output_type": "stream",
          "text": [
            "<class 'pandas.core.frame.DataFrame'>\n",
            "RangeIndex: 1000 entries, 0 to 999\n",
            "Data columns (total 2 columns):\n",
            " #   Column      Non-Null Count  Dtype  \n",
            "---  ------      --------------  -----  \n",
            " 0   Celsius     1000 non-null   int64  \n",
            " 1   Fahrenheit  1000 non-null   float64\n",
            "dtypes: float64(1), int64(1)\n",
            "memory usage: 15.8 KB\n"
          ],
          "name": "stdout"
        }
      ]
    },
    {
      "cell_type": "markdown",
      "metadata": {
        "id": "79W-67WaFnXI",
        "colab_type": "text"
      },
      "source": [
        "`## STEP #2: Visualization of Dataset`"
      ]
    },
    {
      "cell_type": "code",
      "metadata": {
        "id": "0UJp1zltFRhr",
        "colab_type": "code",
        "colab": {
          "base_uri": "https://localhost:8080/",
          "height": 296
        },
        "outputId": "05b8e08e-a98f-4c33-f324-cbefdf397fa5"
      },
      "source": [
        "sns.scatterplot(temp_df['Celsius'], temp_df['Fahrenheit'])"
      ],
      "execution_count": 26,
      "outputs": [
        {
          "output_type": "execute_result",
          "data": {
            "text/plain": [
              "<matplotlib.axes._subplots.AxesSubplot at 0x7ff6a7f76b00>"
            ]
          },
          "metadata": {
            "tags": []
          },
          "execution_count": 26
        },
        {
          "output_type": "display_data",
          "data": {
            "image/png": "[encoded data removed]",
            "text/plain": [
              "<Figure size 432x288 with 1 Axes>"
            ]
          },
          "metadata": {
            "tags": [],
            "needs_background": "light"
          }
        }
      ]
    },
    {
      "cell_type": "code",
      "metadata": {
        "id": "38j_cYte5nVq",
        "colab_type": "code",
        "colab": {
          "base_uri": "https://localhost:8080/",
          "height": 404
        },
        "outputId": "40846fa0-213f-4239-bcaa-0a09de00ad68"
      },
      "source": [
        "import seaborn as sns\n",
        "sns.pairplot(temp_df)"
      ],
      "execution_count": 41,
      "outputs": [
        {
          "output_type": "execute_result",
          "data": {
            "text/plain": [
              "<seaborn.axisgrid.PairGrid at 0x7ff69da9b390>"
            ]
          },
          "metadata": {
            "tags": []
          },
          "execution_count": 41
        },
        {
          "output_type": "display_data",
          "data": {
            "image/png": "[encoded data removed]",
            "text/plain": [
              "<Figure size 360x360 with 6 Axes>"
            ]
          },
          "metadata": {
            "tags": [],
            "needs_background": "light"
          }
        }
      ]
    },
    {
      "cell_type": "markdown",
      "metadata": {
        "id": "X8Fg940rGEUb",
        "colab_type": "text"
      },
      "source": [
        "## STEP #3: Creating Training & Testing Dataset"
      ]
    },
    {
      "cell_type": "code",
      "metadata": {
        "id": "q06xPfhmF6Wq",
        "colab_type": "code",
        "colab": {}
      },
      "source": [
        "X_train = temp_df['Celsius']\n",
        "y_train = temp_df['Fahrenheit']"
      ],
      "execution_count": 27,
      "outputs": []
    },
    {
      "cell_type": "markdown",
      "metadata": {
        "id": "LSkF2APRGxpN",
        "colab_type": "text"
      },
      "source": [
        "## STEP #4: Build & Train the Model"
      ]
    },
    {
      "cell_type": "code",
      "metadata": {
        "id": "R9fLwFNxGw-o",
        "colab_type": "code",
        "colab": {
          "base_uri": "https://localhost:8080/",
          "height": 34
        },
        "outputId": "ca5fdc81-6040-434f-c91a-feb04206b345"
      },
      "source": [
        "X_train.shape"
      ],
      "execution_count": 28,
      "outputs": [
        {
          "output_type": "execute_result",
          "data": {
            "text/plain": [
              "(1000,)"
            ]
          },
          "metadata": {
            "tags": []
          },
          "execution_count": 28
        }
      ]
    },
    {
      "cell_type": "code",
      "metadata": {
        "id": "uJh68ZGCGopj",
        "colab_type": "code",
        "colab": {
          "base_uri": "https://localhost:8080/",
          "height": 34
        },
        "outputId": "9bc16697-6ea3-47cf-fefa-5286bb2526be"
      },
      "source": [
        "y_train.shape"
      ],
      "execution_count": 29,
      "outputs": [
        {
          "output_type": "execute_result",
          "data": {
            "text/plain": [
              "(1000,)"
            ]
          },
          "metadata": {
            "tags": []
          },
          "execution_count": 29
        }
      ]
    },
    {
      "cell_type": "code",
      "metadata": {
        "id": "V2qhxbxxG-80",
        "colab_type": "code",
        "colab": {}
      },
      "source": [
        "# in tensorflow 2.0, keras API come automatically with tensorflow 2.0\n",
        "model = tf.keras.Sequential()\n",
        "model.add(tf.keras.layers.Dense(units= 32 , input_shape = (1,)))\n",
        "#Dense when we have fully connected atificial neural network\n",
        "# now we are adding one more layer to the network\n",
        "model.add(tf.keras.layers.Dense(units = 32))\n",
        "# now adding the output layer\n",
        "model.add(tf.keras.layers.Dense(units = 1))"
      ],
      "execution_count": 71,
      "outputs": []
    },
    {
      "cell_type": "code",
      "metadata": {
        "id": "MS5BObu7HocD",
        "colab_type": "code",
        "colab": {
          "base_uri": "https://localhost:8080/",
          "height": 255
        },
        "outputId": "d616e2ae-fb21-4814-a51f-25c258fa445c"
      },
      "source": [
        "model.summary()"
      ],
      "execution_count": 72,
      "outputs": [
        {
          "output_type": "stream",
          "text": [
            "Model: \"sequential_1\"\n",
            "_________________________________________________________________\n",
            "Layer (type)                 Output Shape              Param #   \n",
            "=================================================================\n",
            "dense_3 (Dense)              (None, 32)                64        \n",
            "_________________________________________________________________\n",
            "dense_4 (Dense)              (None, 32)                1056      \n",
            "_________________________________________________________________\n",
            "dense_5 (Dense)              (None, 1)                 33        \n",
            "=================================================================\n",
            "Total params: 1,153\n",
            "Trainable params: 1,153\n",
            "Non-trainable params: 0\n",
            "_________________________________________________________________\n"
          ],
          "name": "stdout"
        }
      ]
    },
    {
      "cell_type": "code",
      "metadata": {
        "id": "GH7sXWvvHrHQ",
        "colab_type": "code",
        "colab": {}
      },
      "source": [
        "model.compile(optimizer= tf.keras.optimizers.Adam(1), loss = 'mean_squared_error')"
      ],
      "execution_count": 73,
      "outputs": []
    },
    {
      "cell_type": "code",
      "metadata": {
        "id": "J4WdGQiFIMUc",
        "colab_type": "code",
        "colab": {
          "base_uri": "https://localhost:8080/",
          "height": 1000
        },
        "outputId": "7ebd60cf-57b4-490b-a3e2-344a72fa94b9"
      },
      "source": [
        "epochs_hist = model.fit(X_train, y_train, epochs=50, validation_split = 0.2)"
      ],
      "execution_count": 74,
      "outputs": [
        {
          "output_type": "stream",
          "text": [
            "Train on 800 samples, validate on 200 samples\n",
            "Epoch 1/50\n",
            "800/800 [==============================] - 0s 295us/sample - loss: 1731067311.1385 - val_loss: 444755558.4000\n",
            "Epoch 2/50\n",
            "800/800 [==============================] - 0s 60us/sample - loss: 278420110.9300 - val_loss: 82649298.2400\n",
            "Epoch 3/50\n",
            "800/800 [==============================] - 0s 57us/sample - loss: 15448782.9563 - val_loss: 6406087.8400\n",
            "Epoch 4/50\n",
            "800/800 [==============================] - 0s 54us/sample - loss: 1195590.4924 - val_loss: 189733.5350\n",
            "Epoch 5/50\n",
            "800/800 [==============================] - 0s 54us/sample - loss: 68533.3001 - val_loss: 180.2395\n",
            "Epoch 6/50\n",
            "800/800 [==============================] - 0s 56us/sample - loss: 3967.8704 - val_loss: 225.3371\n",
            "Epoch 7/50\n",
            "800/800 [==============================] - 0s 60us/sample - loss: 278.8441 - val_loss: 9.8461\n",
            "Epoch 8/50\n",
            "800/800 [==============================] - 0s 66us/sample - loss: 19.3658 - val_loss: 7.4723\n",
            "Epoch 9/50\n",
            "800/800 [==============================] - 0s 63us/sample - loss: 2.2188 - val_loss: 0.1933\n",
            "Epoch 10/50\n",
            "800/800 [==============================] - 0s 62us/sample - loss: 0.1549 - val_loss: 0.0621\n",
            "Epoch 11/50\n",
            "800/800 [==============================] - 0s 60us/sample - loss: 0.0132 - val_loss: 0.0015\n",
            "Epoch 12/50\n",
            "800/800 [==============================] - 0s 58us/sample - loss: 0.0011 - val_loss: 5.6422e-06\n",
            "Epoch 13/50\n",
            "800/800 [==============================] - 0s 62us/sample - loss: 1.0111e-04 - val_loss: 2.0379e-05\n",
            "Epoch 14/50\n",
            "800/800 [==============================] - 0s 60us/sample - loss: 6.3271e-06 - val_loss: 2.3408e-06\n",
            "Epoch 15/50\n",
            "800/800 [==============================] - 0s 56us/sample - loss: 1.7381e-06 - val_loss: 1.7780e-06\n",
            "Epoch 16/50\n",
            "800/800 [==============================] - 0s 57us/sample - loss: 1.5246e-06 - val_loss: 1.8128e-06\n",
            "Epoch 17/50\n",
            "800/800 [==============================] - 0s 59us/sample - loss: 1.5809e-06 - val_loss: 1.7918e-06\n",
            "Epoch 18/50\n",
            "800/800 [==============================] - 0s 62us/sample - loss: 1.5795e-06 - val_loss: 1.6832e-06\n",
            "Epoch 19/50\n",
            "800/800 [==============================] - 0s 57us/sample - loss: 1.5848e-06 - val_loss: 1.7520e-06\n",
            "Epoch 20/50\n",
            "800/800 [==============================] - 0s 55us/sample - loss: 1.5054e-06 - val_loss: 1.8153e-06\n",
            "Epoch 21/50\n",
            "800/800 [==============================] - 0s 55us/sample - loss: 1.6096e-06 - val_loss: 1.9451e-06\n",
            "Epoch 22/50\n",
            "800/800 [==============================] - 0s 57us/sample - loss: 1.5941e-06 - val_loss: 1.8481e-06\n",
            "Epoch 23/50\n",
            "800/800 [==============================] - 0s 55us/sample - loss: 1.5228e-06 - val_loss: 1.7801e-06\n",
            "Epoch 24/50\n",
            "800/800 [==============================] - 0s 62us/sample - loss: 1.5794e-06 - val_loss: 1.8281e-06\n",
            "Epoch 25/50\n",
            "800/800 [==============================] - 0s 57us/sample - loss: 1.5334e-06 - val_loss: 1.9333e-06\n",
            "Epoch 26/50\n",
            "800/800 [==============================] - 0s 61us/sample - loss: 1.5863e-06 - val_loss: 1.8356e-06\n",
            "Epoch 27/50\n",
            "800/800 [==============================] - 0s 63us/sample - loss: 1.5794e-06 - val_loss: 1.6862e-06\n",
            "Epoch 28/50\n",
            "800/800 [==============================] - 0s 63us/sample - loss: 1.6094e-06 - val_loss: 1.9201e-06\n",
            "Epoch 29/50\n",
            "800/800 [==============================] - 0s 61us/sample - loss: 1.5251e-06 - val_loss: 1.6954e-06\n",
            "Epoch 30/50\n",
            "800/800 [==============================] - 0s 60us/sample - loss: 1.5694e-06 - val_loss: 1.7009e-06\n",
            "Epoch 31/50\n",
            "800/800 [==============================] - 0s 62us/sample - loss: 1.5928e-06 - val_loss: 1.7203e-06\n",
            "Epoch 32/50\n",
            "800/800 [==============================] - 0s 60us/sample - loss: 1.5903e-06 - val_loss: 1.8323e-06\n",
            "Epoch 33/50\n",
            "800/800 [==============================] - 0s 66us/sample - loss: 1.5357e-06 - val_loss: 1.8362e-06\n",
            "Epoch 34/50\n",
            "800/800 [==============================] - 0s 61us/sample - loss: 1.5310e-06 - val_loss: 1.8994e-06\n",
            "Epoch 35/50\n",
            "800/800 [==============================] - 0s 56us/sample - loss: 1.5564e-06 - val_loss: 1.8334e-06\n",
            "Epoch 36/50\n",
            "800/800 [==============================] - 0s 59us/sample - loss: 1.5076e-06 - val_loss: 1.8164e-06\n",
            "Epoch 37/50\n",
            "800/800 [==============================] - 0s 58us/sample - loss: 1.5344e-06 - val_loss: 1.6295e-06\n",
            "Epoch 38/50\n",
            "800/800 [==============================] - 0s 54us/sample - loss: 1.5327e-06 - val_loss: 1.8409e-06\n",
            "Epoch 39/50\n",
            "800/800 [==============================] - 0s 66us/sample - loss: 1.5153e-06 - val_loss: 1.7477e-06\n",
            "Epoch 40/50\n",
            "800/800 [==============================] - 0s 58us/sample - loss: 1.5404e-06 - val_loss: 1.8978e-06\n",
            "Epoch 41/50\n",
            "800/800 [==============================] - 0s 57us/sample - loss: 1.5177e-06 - val_loss: 1.7563e-06\n",
            "Epoch 42/50\n",
            "800/800 [==============================] - 0s 56us/sample - loss: 1.5247e-06 - val_loss: 1.8859e-06\n",
            "Epoch 43/50\n",
            "800/800 [==============================] - 0s 54us/sample - loss: 1.6119e-06 - val_loss: 1.8380e-06\n",
            "Epoch 44/50\n",
            "800/800 [==============================] - 0s 62us/sample - loss: 1.4995e-06 - val_loss: 2.0338e-06\n",
            "Epoch 45/50\n",
            "800/800 [==============================] - 0s 58us/sample - loss: 1.6388e-06 - val_loss: 2.1304e-06\n",
            "Epoch 46/50\n",
            "800/800 [==============================] - 0s 55us/sample - loss: 1.5849e-06 - val_loss: 1.9658e-06\n",
            "Epoch 47/50\n",
            "800/800 [==============================] - 0s 57us/sample - loss: 1.5934e-06 - val_loss: 2.2197e-06\n",
            "Epoch 48/50\n",
            "800/800 [==============================] - 0s 56us/sample - loss: 1.6396e-06 - val_loss: 1.9958e-06\n",
            "Epoch 49/50\n",
            "800/800 [==============================] - 0s 55us/sample - loss: 1.5060e-06 - val_loss: 2.2469e-06\n",
            "Epoch 50/50\n",
            "800/800 [==============================] - 0s 60us/sample - loss: 1.6864e-06 - val_loss: 2.0118e-06\n"
          ],
          "name": "stdout"
        }
      ]
    },
    {
      "cell_type": "code",
      "metadata": {
        "id": "I039pt4cIY0S",
        "colab_type": "code",
        "colab": {}
      },
      "source": [
        ""
      ],
      "execution_count": 74,
      "outputs": []
    },
    {
      "cell_type": "markdown",
      "metadata": {
        "id": "lmFTFUOsJhMo",
        "colab_type": "text"
      },
      "source": [
        "## STEP #5: Evaluating the Model"
      ]
    },
    {
      "cell_type": "code",
      "metadata": {
        "id": "dZDPCnVDJmGc",
        "colab_type": "code",
        "colab": {
          "base_uri": "https://localhost:8080/",
          "height": 34
        },
        "outputId": "92ffe94b-5eb9-4e08-fef3-2c9f806ca163"
      },
      "source": [
        "epochs_hist.history.keys()"
      ],
      "execution_count": 75,
      "outputs": [
        {
          "output_type": "execute_result",
          "data": {
            "text/plain": [
              "dict_keys(['loss', 'val_loss'])"
            ]
          },
          "metadata": {
            "tags": []
          },
          "execution_count": 75
        }
      ]
    },
    {
      "cell_type": "code",
      "metadata": {
        "id": "uv53Sz-DJu1i",
        "colab_type": "code",
        "colab": {
          "base_uri": "https://localhost:8080/",
          "height": 295
        },
        "outputId": "a8850000-8697-4932-966f-8e05d9649210"
      },
      "source": [
        "plt.plot(epochs_hist.history['loss'], color='green', label='Training loss')\n",
        "plt.title('Model loss Progress during training')\n",
        "plt.xlabel('Epochs')\n",
        "plt.ylabel('Training loss')\n",
        "plt.legend('Training loss')\n",
        "plt.show()"
      ],
      "execution_count": 81,
      "outputs": [
        {
          "output_type": "display_data",
          "data": {
            "image/png": "[encoded data removed]",
            "text/plain": [
              "<Figure size 432x288 with 1 Axes>"
            ]
          },
          "metadata": {
            "tags": [],
            "needs_background": "light"
          }
        }
      ]
    },
    {
      "cell_type": "code",
      "metadata": {
        "id": "kphkLYoc6EWy",
        "colab_type": "code",
        "colab": {
          "base_uri": "https://localhost:8080/",
          "height": 312
        },
        "outputId": "eee995d8-3a48-4abc-a323-65d9156f8ab6"
      },
      "source": [
        "plt.plot(epochs_hist.history['loss'], color='green', label='Training loss')\n",
        "plt.plot(epochs_hist.history['val_loss'], color='red', label='Validation loss')\n",
        "\n",
        "plt.title('Model loss progress during training the model')\n",
        "plt.xlabel('Epochs')\n",
        "plt.ylabel('Training loss')"
      ],
      "execution_count": 85,
      "outputs": [
        {
          "output_type": "execute_result",
          "data": {
            "text/plain": [
              "Text(0, 0.5, 'Training loss')"
            ]
          },
          "metadata": {
            "tags": []
          },
          "execution_count": 85
        },
        {
          "output_type": "display_data",
          "data": {
            "image/png": "[encoded data removed]",
            "text/plain": [
              "<Figure size 432x288 with 1 Axes>"
            ]
          },
          "metadata": {
            "tags": [],
            "needs_background": "light"
          }
        }
      ]
    },
    {
      "cell_type": "code",
      "metadata": {
        "id": "D_gbRS4lJ3pq",
        "colab_type": "code",
        "colab": {
          "base_uri": "https://localhost:8080/",
          "height": 1000
        },
        "outputId": "3aa2ec8e-c48d-4d79-b086-bcbae47cb395"
      },
      "source": [
        "model.get_weights()"
      ],
      "execution_count": 78,
      "outputs": [
        {
          "output_type": "execute_result",
          "data": {
            "text/plain": [
              "[array([[ 0.612734  ,  0.69861853,  0.6208598 ,  0.00714685,  0.22173135,\n",
              "          0.6793631 ,  0.64611334, -0.7793669 ,  0.08451042, -0.5547349 ,\n",
              "         -0.09534116, -0.04580759,  0.7974303 ,  0.5421282 , -1.5703714 ,\n",
              "          0.5985012 ,  0.7370004 ,  0.81689507,  0.5118943 , -0.47340032,\n",
              "         -0.05661702,  0.68684983,  0.5782921 , -0.24966952,  0.6689062 ,\n",
              "         -0.6756121 , -0.72590613, -0.12069906, -0.7979306 ,  0.25495073,\n",
              "         -0.60469985,  0.14856605]], dtype=float32),\n",
              " array([-2.499687  ,  2.3874283 , -0.6988163 ,  7.775396  ,  7.8884053 ,\n",
              "        -6.6003437 , -2.609023  ,  3.0606282 ,  7.5511856 ,  1.3679296 ,\n",
              "         7.629556  , -7.413498  , -3.622821  , -1.9708722 ,  0.2721701 ,\n",
              "        -0.37934333, -5.4792466 , -3.2409072 , -2.110751  ,  2.6367679 ,\n",
              "        -7.8135147 ,  0.86941123, -1.3341639 , -7.449519  ,  1.2856417 ,\n",
              "         1.0433358 ,  5.006688  ,  7.393956  , -1.1935246 ,  7.8369064 ,\n",
              "        -2.6668432 ,  7.731227  ], dtype=float32),\n",
              " array([[-1.6710297 , -1.5654486 , -0.36718252, ..., -3.3441799 ,\n",
              "          1.9652396 ,  1.4765457 ],\n",
              "        [-0.6908452 , -4.0215583 , -2.165575  , ..., -1.5725001 ,\n",
              "          1.6055074 ,  1.6144086 ],\n",
              "        [-1.344513  , -3.7223024 , -1.0858443 , ..., -1.4424896 ,\n",
              "          1.4814893 ,  1.1442589 ],\n",
              "        ...,\n",
              "        [ 0.2810037 , -2.419194  , -0.14106531, ...,  5.437262  ,\n",
              "         -2.3044016 , -2.4069476 ],\n",
              "        [ 0.88294286,  3.7535048 ,  2.281029  , ...,  1.7612394 ,\n",
              "         -1.7358097 , -1.3059679 ],\n",
              "        [ 0.53549916, -2.2217252 ,  0.072974  , ...,  5.3754897 ,\n",
              "         -2.0161781 , -2.39357   ]], dtype=float32),\n",
              " array([ -9.747702  , -10.687536  ,  -7.406785  ,  -3.8203244 ,\n",
              "        -10.123275  ,   0.17171016,  -3.7004054 ,  -9.9168    ,\n",
              "         10.674935  ,   0.5746097 ,  -3.6309018 ,   3.0020096 ,\n",
              "         -3.754523  ,  -8.294718  ,   3.6022613 ,   3.7445946 ,\n",
              "         -3.2985334 ,  -3.1280792 ,   3.2854967 ,   9.139057  ,\n",
              "          3.9395292 ,   3.8675263 ,  -3.6889749 ,   8.51161   ,\n",
              "         -3.7208192 ,   9.7178335 ,  -3.6306486 ,   8.528327  ,\n",
              "          2.4083045 ,   3.1719959 ,  -3.703693  ,  -3.7162416 ],\n",
              "       dtype=float32),\n",
              " array([[ 2.860404  ],\n",
              "        [-0.7788742 ],\n",
              "        [ 0.45214784],\n",
              "        [-0.7211927 ],\n",
              "        [ 3.1275785 ],\n",
              "        [-0.76066786],\n",
              "        [-0.7024439 ],\n",
              "        [ 2.4599748 ],\n",
              "        [ 0.7805891 ],\n",
              "        [ 1.1199349 ],\n",
              "        [-0.6575781 ],\n",
              "        [ 0.5760882 ],\n",
              "        [-0.7015915 ],\n",
              "        [ 0.7189323 ],\n",
              "        [ 0.66106206],\n",
              "        [ 0.7120874 ],\n",
              "        [-0.66391194],\n",
              "        [-0.49638608],\n",
              "        [-3.7343528 ],\n",
              "        [-1.6355603 ],\n",
              "        [ 0.7562227 ],\n",
              "        [ 0.71525407],\n",
              "        [-0.7001386 ],\n",
              "        [-0.306992  ],\n",
              "        [-0.6866842 ],\n",
              "        [-2.9039574 ],\n",
              "        [-0.65771246],\n",
              "        [-1.0685513 ],\n",
              "        [ 0.19903941],\n",
              "        [-3.7211523 ],\n",
              "        [-0.67541736],\n",
              "        [-0.68372506]], dtype=float32),\n",
              " array([13.162293], dtype=float32)]"
            ]
          },
          "metadata": {
            "tags": []
          },
          "execution_count": 78
        }
      ]
    },
    {
      "cell_type": "code",
      "metadata": {
        "id": "yBgd4NQJKzU3",
        "colab_type": "code",
        "colab": {
          "base_uri": "https://localhost:8080/",
          "height": 34
        },
        "outputId": "9704d9d5-28cd-4703-f649-7ca9dbf740b4"
      },
      "source": [
        "# Use the same model to perform predictions\n",
        "Temp_C = 12\n",
        "Temp_F = model.predict([Temp_C])\n",
        "print('Temprature in Fahrenheit using simple ANN=', Temp_F)"
      ],
      "execution_count": 79,
      "outputs": [
        {
          "output_type": "stream",
          "text": [
            "Temprature in Fahrenheit using simple ANN= [[53.59942]]\n"
          ],
          "name": "stdout"
        }
      ]
    },
    {
      "cell_type": "code",
      "metadata": {
        "id": "xT7qFFZDLL-6",
        "colab_type": "code",
        "colab": {
          "base_uri": "https://localhost:8080/",
          "height": 34
        },
        "outputId": "92c42c26-1f7e-4ff9-871f-ef7c80722786"
      },
      "source": [
        "# Lets confirm with the equation\n",
        "Temp_F = 9/5 * Temp_C + 32\n",
        "print('Temprature in Fahrenheit using normal equation=', Temp_F)"
      ],
      "execution_count": 80,
      "outputs": [
        {
          "output_type": "stream",
          "text": [
            "Temprature in Fahrenheit using normal equation= 53.6\n"
          ],
          "name": "stdout"
        }
      ]
    },
    {
      "cell_type": "code",
      "metadata": {
        "id": "F4XfEAe5LXfU",
        "colab_type": "code",
        "colab": {}
      },
      "source": [
        ""
      ],
      "execution_count": 80,
      "outputs": []
    }
  ]
}