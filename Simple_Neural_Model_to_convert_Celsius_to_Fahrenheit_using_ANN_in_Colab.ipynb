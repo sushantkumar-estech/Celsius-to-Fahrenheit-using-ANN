{
  "nbformat": 4,
  "nbformat_minor": 0,
  "metadata": {
    "colab": {
      "name": "Simple Neural Model to convert Celsius to Fahrenheit using ANN in Colab.ipynb",
      "provenance": [],
      "collapsed_sections": [],
      "authorship_tag": "ABX9TyMU5w1Eit6YFEm+9lY4kmx6",
      "include_colab_link": true
    },
    "kernelspec": {
      "name": "python3",
      "display_name": "Python 3"
    }
  },
  "cells": [
    {
      "cell_type": "markdown",
      "metadata": {
        "id": "view-in-github",
        "colab_type": "text"
      },
      "source": [
        "<a href=\"https://colab.research.google.com/github/sushantkumar-estech/Celsius-to-Fahrenheit-using-ANN/blob/master/Simple_Neural_Model_to_convert_Celsius_to_Fahrenheit_using_ANN_in_Colab.ipynb\" target=\"_parent\"><img src=\"https://colab.research.google.com/assets/colab-badge.svg\" alt=\"Open In Colab\"/></a>"
      ]
    },
    {
      "cell_type": "markdown",
      "metadata": {
        "id": "kUW8lIjVCIb8",
        "colab_type": "text"
      },
      "source": [
        "## STEP#0: Import Libraries"
      ]
    },
    {
      "cell_type": "code",
      "metadata": {
        "id": "-y32g6y6CHHb",
        "colab_type": "code",
        "colab": {}
      },
      "source": [
        "# !pip install tensorflow-gpu==2.0.0.alpha0"
      ],
      "execution_count": 93,
      "outputs": []
    },
    {
      "cell_type": "code",
      "metadata": {
        "id": "a8ZAvBbDosHK",
        "colab_type": "code",
        "colab": {
          "base_uri": "https://localhost:8080/",
          "height": 408
        },
        "outputId": "06467447-a2fc-43de-abdf-93db646cd84a"
      },
      "source": [
        "#Installing compatible tensorflow \n",
        "!pip install tensorflow\n",
        "try:\n",
        "  %tensorflow_version 1.x\n",
        "except Exception:\n",
        "  pass"
      ],
      "execution_count": 94,
      "outputs": [
        {
          "output_type": "stream",
          "text": [
            "Requirement already satisfied: tensorflow in /tensorflow-1.15.2/python3.6 (1.15.2)\n",
            "Requirement already satisfied: tensorflow-estimator==1.15.1 in /tensorflow-1.15.2/python3.6 (from tensorflow) (1.15.1)\n",
            "Requirement already satisfied: numpy<2.0,>=1.16.0 in /usr/local/lib/python3.6/dist-packages (from tensorflow) (1.18.5)\n",
            "Requirement already satisfied: tensorboard<1.16.0,>=1.15.0 in /tensorflow-1.15.2/python3.6 (from tensorflow) (1.15.0)\n",
            "Requirement already satisfied: termcolor>=1.1.0 in /usr/local/lib/python3.6/dist-packages (from tensorflow) (1.1.0)\n",
            "Requirement already satisfied: wrapt>=1.11.1 in /usr/local/lib/python3.6/dist-packages (from tensorflow) (1.12.1)\n",
            "Requirement already satisfied: gast==0.2.2 in /usr/local/lib/python3.6/dist-packages (from tensorflow) (0.2.2)\n",
            "Requirement already satisfied: keras-preprocessing>=1.0.5 in /usr/local/lib/python3.6/dist-packages (from tensorflow) (1.1.2)\n",
            "Requirement already satisfied: six>=1.10.0 in /usr/local/lib/python3.6/dist-packages (from tensorflow) (1.15.0)\n",
            "Requirement already satisfied: absl-py>=0.7.0 in /usr/local/lib/python3.6/dist-packages (from tensorflow) (0.9.0)\n",
            "Requirement already satisfied: grpcio>=1.8.6 in /usr/local/lib/python3.6/dist-packages (from tensorflow) (1.31.0)\n",
            "Requirement already satisfied: astor>=0.6.0 in /usr/local/lib/python3.6/dist-packages (from tensorflow) (0.8.1)\n",
            "Requirement already satisfied: google-pasta>=0.1.6 in /usr/local/lib/python3.6/dist-packages (from tensorflow) (0.2.0)\n",
            "Requirement already satisfied: opt-einsum>=2.3.2 in /usr/local/lib/python3.6/dist-packages (from tensorflow) (3.3.0)\n",
            "Requirement already satisfied: wheel>=0.26; python_version >= \"3\" in /usr/local/lib/python3.6/dist-packages (from tensorflow) (0.34.2)\n",
            "Requirement already satisfied: keras-applications>=1.0.8 in /tensorflow-1.15.2/python3.6 (from tensorflow) (1.0.8)\n",
            "Requirement already satisfied: protobuf>=3.6.1 in /usr/local/lib/python3.6/dist-packages (from tensorflow) (3.12.4)\n",
            "Requirement already satisfied: setuptools>=41.0.0 in /usr/local/lib/python3.6/dist-packages (from tensorboard<1.16.0,>=1.15.0->tensorflow) (49.2.0)\n",
            "Requirement already satisfied: werkzeug>=0.11.15 in /usr/local/lib/python3.6/dist-packages (from tensorboard<1.16.0,>=1.15.0->tensorflow) (1.0.1)\n",
            "Requirement already satisfied: markdown>=2.6.8 in /usr/local/lib/python3.6/dist-packages (from tensorboard<1.16.0,>=1.15.0->tensorflow) (3.2.2)\n",
            "Requirement already satisfied: h5py in /usr/local/lib/python3.6/dist-packages (from keras-applications>=1.0.8->tensorflow) (2.10.0)\n",
            "Requirement already satisfied: importlib-metadata; python_version < \"3.8\" in /usr/local/lib/python3.6/dist-packages (from markdown>=2.6.8->tensorboard<1.16.0,>=1.15.0->tensorflow) (1.7.0)\n",
            "Requirement already satisfied: zipp>=0.5 in /usr/local/lib/python3.6/dist-packages (from importlib-metadata; python_version < \"3.8\"->markdown>=2.6.8->tensorboard<1.16.0,>=1.15.0->tensorflow) (3.1.0)\n"
          ],
          "name": "stdout"
        }
      ]
    },
    {
      "cell_type": "code",
      "metadata": {
        "id": "3XKxhNdYC1Sh",
        "colab_type": "code",
        "colab": {}
      },
      "source": [
        "#Importing required libraries for data processing and visualization\n",
        "\n",
        "import tensorflow as tf\n",
        "import pandas as pd\n",
        "import seaborn as sns  # to plot images and statical version of data\n",
        "import numpy as np\n",
        "import matplotlib.pyplot as plt\n"
      ],
      "execution_count": 95,
      "outputs": []
    },
    {
      "cell_type": "code",
      "metadata": {
        "id": "ZDDqpc2b3dUj",
        "colab_type": "code",
        "colab": {
          "base_uri": "https://localhost:8080/",
          "height": 34
        },
        "outputId": "4e42852e-5f03-4a85-f27d-fd49ccec2414"
      },
      "source": [
        "print(tf.__version__)"
      ],
      "execution_count": 96,
      "outputs": [
        {
          "output_type": "stream",
          "text": [
            "1.15.2\n"
          ],
          "name": "stdout"
        }
      ]
    },
    {
      "cell_type": "markdown",
      "metadata": {
        "id": "mPv8gmXDCt3z",
        "colab_type": "text"
      },
      "source": [
        "## STEP #1: Import *Dataset*"
      ]
    },
    {
      "cell_type": "code",
      "metadata": {
        "id": "BFRdf793Cz-2",
        "colab_type": "code",
        "colab": {
          "base_uri": "https://localhost:8080/",
          "height": 34
        },
        "outputId": "1a36247c-88d5-41ce-a68d-676cba28c072"
      },
      "source": [
        "#Mouting colab with the drive\n",
        "\n",
        "from google.colab import drive\n",
        "drive.mount('/content/drive')"
      ],
      "execution_count": 97,
      "outputs": [
        {
          "output_type": "stream",
          "text": [
            "Drive already mounted at /content/drive; to attempt to forcibly remount, call drive.mount(\"/content/drive\", force_remount=True).\n"
          ],
          "name": "stdout"
        }
      ]
    },
    {
      "cell_type": "code",
      "metadata": {
        "id": "z3DuF3csDVsC",
        "colab_type": "code",
        "colab": {}
      },
      "source": [
        "#Importing dataset from drive\n",
        "\n",
        "temp_df = pd.read_csv('/content/drive/My Drive/ML_Dataset/Celsius to Fahrenheit/Celsius_Fahrenheit_dataset_1000.csv')"
      ],
      "execution_count": 98,
      "outputs": []
    },
    {
      "cell_type": "code",
      "metadata": {
        "id": "E8yWe1SxEqp8",
        "colab_type": "code",
        "colab": {
          "base_uri": "https://localhost:8080/",
          "height": 204
        },
        "outputId": "524cb996-2d1d-4234-e82c-f1dc37c145a5"
      },
      "source": [
        "temp_df.head() #showing top rows"
      ],
      "execution_count": 99,
      "outputs": [
        {
          "output_type": "execute_result",
          "data": {
            "text/html": [
              "<div>\n",
              "<style scoped>\n",
              "    .dataframe tbody tr th:only-of-type {\n",
              "        vertical-align: middle;\n",
              "    }\n",
              "\n",
              "    .dataframe tbody tr th {\n",
              "        vertical-align: top;\n",
              "    }\n",
              "\n",
              "    .dataframe thead th {\n",
              "        text-align: right;\n",
              "    }\n",
              "</style>\n",
              "<table border=\"1\" class=\"dataframe\">\n",
              "  <thead>\n",
              "    <tr style=\"text-align: right;\">\n",
              "      <th></th>\n",
              "      <th>Celsius</th>\n",
              "      <th>Fahrenheit</th>\n",
              "    </tr>\n",
              "  </thead>\n",
              "  <tbody>\n",
              "    <tr>\n",
              "      <th>0</th>\n",
              "      <td>-67</td>\n",
              "      <td>-88.6</td>\n",
              "    </tr>\n",
              "    <tr>\n",
              "      <th>1</th>\n",
              "      <td>40</td>\n",
              "      <td>104.0</td>\n",
              "    </tr>\n",
              "    <tr>\n",
              "      <th>2</th>\n",
              "      <td>-97</td>\n",
              "      <td>-142.6</td>\n",
              "    </tr>\n",
              "    <tr>\n",
              "      <th>3</th>\n",
              "      <td>57</td>\n",
              "      <td>134.6</td>\n",
              "    </tr>\n",
              "    <tr>\n",
              "      <th>4</th>\n",
              "      <td>-50</td>\n",
              "      <td>-58.0</td>\n",
              "    </tr>\n",
              "  </tbody>\n",
              "</table>\n",
              "</div>"
            ],
            "text/plain": [
              "   Celsius  Fahrenheit\n",
              "0      -67       -88.6\n",
              "1       40       104.0\n",
              "2      -97      -142.6\n",
              "3       57       134.6\n",
              "4      -50       -58.0"
            ]
          },
          "metadata": {
            "tags": []
          },
          "execution_count": 99
        }
      ]
    },
    {
      "cell_type": "code",
      "metadata": {
        "id": "2GY3ZDUMEzHK",
        "colab_type": "code",
        "colab": {
          "base_uri": "https://localhost:8080/",
          "height": 204
        },
        "outputId": "4ec5007f-01d4-4244-e08a-0d6a03ba65b1"
      },
      "source": [
        "temp_df.tail(5) #last 5 rows of the dataset     "
      ],
      "execution_count": 100,
      "outputs": [
        {
          "output_type": "execute_result",
          "data": {
            "text/html": [
              "<div>\n",
              "<style scoped>\n",
              "    .dataframe tbody tr th:only-of-type {\n",
              "        vertical-align: middle;\n",
              "    }\n",
              "\n",
              "    .dataframe tbody tr th {\n",
              "        vertical-align: top;\n",
              "    }\n",
              "\n",
              "    .dataframe thead th {\n",
              "        text-align: right;\n",
              "    }\n",
              "</style>\n",
              "<table border=\"1\" class=\"dataframe\">\n",
              "  <thead>\n",
              "    <tr style=\"text-align: right;\">\n",
              "      <th></th>\n",
              "      <th>Celsius</th>\n",
              "      <th>Fahrenheit</th>\n",
              "    </tr>\n",
              "  </thead>\n",
              "  <tbody>\n",
              "    <tr>\n",
              "      <th>995</th>\n",
              "      <td>-80</td>\n",
              "      <td>-112.0</td>\n",
              "    </tr>\n",
              "    <tr>\n",
              "      <th>996</th>\n",
              "      <td>50</td>\n",
              "      <td>122.0</td>\n",
              "    </tr>\n",
              "    <tr>\n",
              "      <th>997</th>\n",
              "      <td>18</td>\n",
              "      <td>64.4</td>\n",
              "    </tr>\n",
              "    <tr>\n",
              "      <th>998</th>\n",
              "      <td>47</td>\n",
              "      <td>116.6</td>\n",
              "    </tr>\n",
              "    <tr>\n",
              "      <th>999</th>\n",
              "      <td>-67</td>\n",
              "      <td>-88.6</td>\n",
              "    </tr>\n",
              "  </tbody>\n",
              "</table>\n",
              "</div>"
            ],
            "text/plain": [
              "     Celsius  Fahrenheit\n",
              "995      -80      -112.0\n",
              "996       50       122.0\n",
              "997       18        64.4\n",
              "998       47       116.6\n",
              "999      -67       -88.6"
            ]
          },
          "metadata": {
            "tags": []
          },
          "execution_count": 100
        }
      ]
    },
    {
      "cell_type": "code",
      "metadata": {
        "id": "srFhCdPgE6oB",
        "colab_type": "code",
        "colab": {
          "base_uri": "https://localhost:8080/",
          "height": 297
        },
        "outputId": "45c7fae0-41c2-4552-9b1e-d448c8c63327"
      },
      "source": [
        "temp_df.describe() #description about dataset"
      ],
      "execution_count": 101,
      "outputs": [
        {
          "output_type": "execute_result",
          "data": {
            "text/html": [
              "<div>\n",
              "<style scoped>\n",
              "    .dataframe tbody tr th:only-of-type {\n",
              "        vertical-align: middle;\n",
              "    }\n",
              "\n",
              "    .dataframe tbody tr th {\n",
              "        vertical-align: top;\n",
              "    }\n",
              "\n",
              "    .dataframe thead th {\n",
              "        text-align: right;\n",
              "    }\n",
              "</style>\n",
              "<table border=\"1\" class=\"dataframe\">\n",
              "  <thead>\n",
              "    <tr style=\"text-align: right;\">\n",
              "      <th></th>\n",
              "      <th>Celsius</th>\n",
              "      <th>Fahrenheit</th>\n",
              "    </tr>\n",
              "  </thead>\n",
              "  <tbody>\n",
              "    <tr>\n",
              "      <th>count</th>\n",
              "      <td>1000.000000</td>\n",
              "      <td>1000.000000</td>\n",
              "    </tr>\n",
              "    <tr>\n",
              "      <th>mean</th>\n",
              "      <td>-0.029000</td>\n",
              "      <td>31.947800</td>\n",
              "    </tr>\n",
              "    <tr>\n",
              "      <th>std</th>\n",
              "      <td>57.334173</td>\n",
              "      <td>103.201511</td>\n",
              "    </tr>\n",
              "    <tr>\n",
              "      <th>min</th>\n",
              "      <td>-100.000000</td>\n",
              "      <td>-148.000000</td>\n",
              "    </tr>\n",
              "    <tr>\n",
              "      <th>25%</th>\n",
              "      <td>-50.000000</td>\n",
              "      <td>-58.000000</td>\n",
              "    </tr>\n",
              "    <tr>\n",
              "      <th>50%</th>\n",
              "      <td>-2.000000</td>\n",
              "      <td>28.400000</td>\n",
              "    </tr>\n",
              "    <tr>\n",
              "      <th>75%</th>\n",
              "      <td>50.000000</td>\n",
              "      <td>122.000000</td>\n",
              "    </tr>\n",
              "    <tr>\n",
              "      <th>max</th>\n",
              "      <td>100.000000</td>\n",
              "      <td>212.000000</td>\n",
              "    </tr>\n",
              "  </tbody>\n",
              "</table>\n",
              "</div>"
            ],
            "text/plain": [
              "           Celsius   Fahrenheit\n",
              "count  1000.000000  1000.000000\n",
              "mean     -0.029000    31.947800\n",
              "std      57.334173   103.201511\n",
              "min    -100.000000  -148.000000\n",
              "25%     -50.000000   -58.000000\n",
              "50%      -2.000000    28.400000\n",
              "75%      50.000000   122.000000\n",
              "max     100.000000   212.000000"
            ]
          },
          "metadata": {
            "tags": []
          },
          "execution_count": 101
        }
      ]
    },
    {
      "cell_type": "code",
      "metadata": {
        "id": "3_-WuhCFFBWO",
        "colab_type": "code",
        "colab": {
          "base_uri": "https://localhost:8080/",
          "height": 170
        },
        "outputId": "737f745d-c8c7-4666-b761-8bdf9e212cc2"
      },
      "source": [
        "temp_df.info()"
      ],
      "execution_count": 102,
      "outputs": [
        {
          "output_type": "stream",
          "text": [
            "<class 'pandas.core.frame.DataFrame'>\n",
            "RangeIndex: 1000 entries, 0 to 999\n",
            "Data columns (total 2 columns):\n",
            " #   Column      Non-Null Count  Dtype  \n",
            "---  ------      --------------  -----  \n",
            " 0   Celsius     1000 non-null   int64  \n",
            " 1   Fahrenheit  1000 non-null   float64\n",
            "dtypes: float64(1), int64(1)\n",
            "memory usage: 15.8 KB\n"
          ],
          "name": "stdout"
        }
      ]
    },
    {
      "cell_type": "markdown",
      "metadata": {
        "id": "79W-67WaFnXI",
        "colab_type": "text"
      },
      "source": [
        "`## STEP #2: Visualization of Dataset`"
      ]
    },
    {
      "cell_type": "code",
      "metadata": {
        "id": "0UJp1zltFRhr",
        "colab_type": "code",
        "colab": {
          "base_uri": "https://localhost:8080/",
          "height": 296
        },
        "outputId": "7c2bd909-e81f-4b39-a528-ef2cff7d4d07"
      },
      "source": [
        "sns.scatterplot(temp_df['Celsius'], temp_df['Fahrenheit'])"
      ],
      "execution_count": 103,
      "outputs": [
        {
          "output_type": "execute_result",
          "data": {
            "text/plain": [
              "<matplotlib.axes._subplots.AxesSubplot at 0x7ff68d1fab70>"
            ]
          },
          "metadata": {
            "tags": []
          },
          "execution_count": 103
        },
        {
          "output_type": "display_data",
          "data": {
            "image/png": "[encoded data removed]",
            "text/plain": [
              "<Figure size 432x288 with 1 Axes>"
            ]
          },
          "metadata": {
            "tags": [],
            "needs_background": "light"
          }
        }
      ]
    },
    {
      "cell_type": "code",
      "metadata": {
        "id": "38j_cYte5nVq",
        "colab_type": "code",
        "colab": {
          "base_uri": "https://localhost:8080/",
          "height": 404
        },
        "outputId": "9497e398-82c4-437c-dc29-a07b3eca6316"
      },
      "source": [
        "import seaborn as sns\n",
        "sns.pairplot(temp_df)"
      ],
      "execution_count": 104,
      "outputs": [
        {
          "output_type": "execute_result",
          "data": {
            "text/plain": [
              "<seaborn.axisgrid.PairGrid at 0x7ff68d1bc080>"
            ]
          },
          "metadata": {
            "tags": []
          },
          "execution_count": 104
        },
        {
          "output_type": "display_data",
          "data": {
            "image/png": "[encoded data removed]",
            "text/plain": [
              "<Figure size 360x360 with 6 Axes>"
            ]
          },
          "metadata": {
            "tags": [],
            "needs_background": "light"
          }
        }
      ]
    },
    {
      "cell_type": "markdown",
      "metadata": {
        "id": "X8Fg940rGEUb",
        "colab_type": "text"
      },
      "source": [
        "## STEP #3: Creating Training & Testing Dataset"
      ]
    },
    {
      "cell_type": "code",
      "metadata": {
        "id": "q06xPfhmF6Wq",
        "colab_type": "code",
        "colab": {}
      },
      "source": [
        "X_train = temp_df['Celsius']\n",
        "y_train = temp_df['Fahrenheit']"
      ],
      "execution_count": 105,
      "outputs": []
    },
    {
      "cell_type": "markdown",
      "metadata": {
        "id": "LSkF2APRGxpN",
        "colab_type": "text"
      },
      "source": [
        "## STEP #4: Build & Train the Model"
      ]
    },
    {
      "cell_type": "code",
      "metadata": {
        "id": "R9fLwFNxGw-o",
        "colab_type": "code",
        "colab": {
          "base_uri": "https://localhost:8080/",
          "height": 34
        },
        "outputId": "3e32f9c0-9f32-4ab4-d364-f5f8fc2c3398"
      },
      "source": [
        "X_train.shape"
      ],
      "execution_count": 106,
      "outputs": [
        {
          "output_type": "execute_result",
          "data": {
            "text/plain": [
              "(1000,)"
            ]
          },
          "metadata": {
            "tags": []
          },
          "execution_count": 106
        }
      ]
    },
    {
      "cell_type": "code",
      "metadata": {
        "id": "uJh68ZGCGopj",
        "colab_type": "code",
        "colab": {
          "base_uri": "https://localhost:8080/",
          "height": 34
        },
        "outputId": "bae70910-c541-4095-a199-918818f1962f"
      },
      "source": [
        "y_train.shape"
      ],
      "execution_count": 107,
      "outputs": [
        {
          "output_type": "execute_result",
          "data": {
            "text/plain": [
              "(1000,)"
            ]
          },
          "metadata": {
            "tags": []
          },
          "execution_count": 107
        }
      ]
    },
    {
      "cell_type": "code",
      "metadata": {
        "id": "V2qhxbxxG-80",
        "colab_type": "code",
        "colab": {}
      },
      "source": [
        "# in tensorflow 2.0, keras API come automatically with tensorflow 2.0\n",
        "model = tf.keras.Sequential()\n",
        "model.add(tf.keras.layers.Dense(units= 32 , input_shape = (1,)))\n",
        "#Dense when we have fully connected atificial neural network\n",
        "# now we are adding one more layer to the network\n",
        "model.add(tf.keras.layers.Dense(units = 32))\n",
        "# now adding the output layer\n",
        "model.add(tf.keras.layers.Dense(units = 1))"
      ],
      "execution_count": 108,
      "outputs": []
    },
    {
      "cell_type": "code",
      "metadata": {
        "id": "MS5BObu7HocD",
        "colab_type": "code",
        "colab": {
          "base_uri": "https://localhost:8080/",
          "height": 255
        },
        "outputId": "465f89f0-00f1-4217-d7d0-1e338992160a"
      },
      "source": [
        "model.summary()"
      ],
      "execution_count": 109,
      "outputs": [
        {
          "output_type": "stream",
          "text": [
            "Model: \"sequential_2\"\n",
            "_________________________________________________________________\n",
            "Layer (type)                 Output Shape              Param #   \n",
            "=================================================================\n",
            "dense_6 (Dense)              (None, 32)                64        \n",
            "_________________________________________________________________\n",
            "dense_7 (Dense)              (None, 32)                1056      \n",
            "_________________________________________________________________\n",
            "dense_8 (Dense)              (None, 1)                 33        \n",
            "=================================================================\n",
            "Total params: 1,153\n",
            "Trainable params: 1,153\n",
            "Non-trainable params: 0\n",
            "_________________________________________________________________\n"
          ],
          "name": "stdout"
        }
      ]
    },
    {
      "cell_type": "code",
      "metadata": {
        "id": "GH7sXWvvHrHQ",
        "colab_type": "code",
        "colab": {}
      },
      "source": [
        "model.compile(optimizer= tf.keras.optimizers.Adam(1), loss = 'mean_squared_error')"
      ],
      "execution_count": 110,
      "outputs": []
    },
    {
      "cell_type": "code",
      "metadata": {
        "id": "J4WdGQiFIMUc",
        "colab_type": "code",
        "colab": {
          "base_uri": "https://localhost:8080/",
          "height": 1000
        },
        "outputId": "2b74ed28-481a-40f8-a22e-fec5e2f6bf5a"
      },
      "source": [
        "epochs_hist = model.fit(X_train, y_train, epochs=30, validation_split = 0.2)"
      ],
      "execution_count": 111,
      "outputs": [
        {
          "output_type": "stream",
          "text": [
            "Train on 800 samples, validate on 200 samples\n",
            "Epoch 1/30\n",
            "800/800 [==============================] - 0s 327us/sample - loss: 136856949.3247 - val_loss: 45079646.4000\n",
            "Epoch 2/30\n",
            "800/800 [==============================] - 0s 58us/sample - loss: 7230285.3033 - val_loss: 652791.6825\n",
            "Epoch 3/30\n",
            "800/800 [==============================] - 0s 61us/sample - loss: 367615.9052 - val_loss: 149643.4519\n",
            "Epoch 4/30\n",
            "800/800 [==============================] - 0s 61us/sample - loss: 34783.4066 - val_loss: 15538.7335\n",
            "Epoch 5/30\n",
            "800/800 [==============================] - 0s 58us/sample - loss: 3711.3054 - val_loss: 1434.1834\n",
            "Epoch 6/30\n",
            "800/800 [==============================] - 0s 62us/sample - loss: 223.7546 - val_loss: 16.4950\n",
            "Epoch 7/30\n",
            "800/800 [==============================] - 0s 59us/sample - loss: 8.9355 - val_loss: 3.5384\n",
            "Epoch 8/30\n",
            "800/800 [==============================] - 0s 59us/sample - loss: 0.9850 - val_loss: 0.0499\n",
            "Epoch 9/30\n",
            "800/800 [==============================] - 0s 61us/sample - loss: 0.0646 - val_loss: 0.0013\n",
            "Epoch 10/30\n",
            "800/800 [==============================] - 0s 63us/sample - loss: 0.0041 - val_loss: 1.1002e-04\n",
            "Epoch 11/30\n",
            "800/800 [==============================] - 0s 61us/sample - loss: 2.5474e-04 - val_loss: 7.5385e-05\n",
            "Epoch 12/30\n",
            "800/800 [==============================] - 0s 56us/sample - loss: 2.8580e-05 - val_loss: 1.0349e-05\n",
            "Epoch 13/30\n",
            "800/800 [==============================] - 0s 58us/sample - loss: 2.3541e-06 - val_loss: 7.9013e-07\n",
            "Epoch 14/30\n",
            "800/800 [==============================] - 0s 57us/sample - loss: 1.9630e-07 - val_loss: 6.9432e-08\n",
            "Epoch 15/30\n",
            "800/800 [==============================] - 0s 63us/sample - loss: 1.7635e-08 - val_loss: 6.2667e-09\n",
            "Epoch 16/30\n",
            "800/800 [==============================] - 0s 55us/sample - loss: 3.8890e-09 - val_loss: 3.8425e-09\n",
            "Epoch 17/30\n",
            "800/800 [==============================] - 0s 54us/sample - loss: 3.3030e-09 - val_loss: 4.1653e-09\n",
            "Epoch 18/30\n",
            "800/800 [==============================] - 0s 58us/sample - loss: 3.4523e-09 - val_loss: 3.9624e-09\n",
            "Epoch 19/30\n",
            "800/800 [==============================] - 0s 58us/sample - loss: 3.5121e-09 - val_loss: 4.1446e-09\n",
            "Epoch 20/30\n",
            "800/800 [==============================] - 0s 68us/sample - loss: 3.6762e-09 - val_loss: 4.0388e-09\n",
            "Epoch 21/30\n",
            "800/800 [==============================] - 0s 60us/sample - loss: 3.9861e-09 - val_loss: 4.4444e-09\n",
            "Epoch 22/30\n",
            "800/800 [==============================] - 0s 62us/sample - loss: 3.5882e-09 - val_loss: 3.8647e-09\n",
            "Epoch 23/30\n",
            "800/800 [==============================] - 0s 56us/sample - loss: 3.9379e-09 - val_loss: 4.1644e-09\n",
            "Epoch 24/30\n",
            "800/800 [==============================] - 0s 62us/sample - loss: 3.6377e-09 - val_loss: 3.7621e-09\n",
            "Epoch 25/30\n",
            "800/800 [==============================] - 0s 60us/sample - loss: 3.4926e-09 - val_loss: 3.7470e-09\n",
            "Epoch 26/30\n",
            "800/800 [==============================] - 0s 61us/sample - loss: 3.6581e-09 - val_loss: 4.0369e-09\n",
            "Epoch 27/30\n",
            "800/800 [==============================] - 0s 56us/sample - loss: 3.7011e-09 - val_loss: 3.6354e-09\n",
            "Epoch 28/30\n",
            "800/800 [==============================] - 0s 55us/sample - loss: 3.5590e-09 - val_loss: 3.8257e-09\n",
            "Epoch 29/30\n",
            "800/800 [==============================] - 0s 58us/sample - loss: 3.5685e-09 - val_loss: 4.6576e-09\n",
            "Epoch 30/30\n",
            "800/800 [==============================] - 0s 58us/sample - loss: 3.4796e-09 - val_loss: 4.4254e-09\n"
          ],
          "name": "stdout"
        }
      ]
    },
    {
      "cell_type": "code",
      "metadata": {
        "id": "I039pt4cIY0S",
        "colab_type": "code",
        "colab": {}
      },
      "source": [
        ""
      ],
      "execution_count": 111,
      "outputs": []
    },
    {
      "cell_type": "markdown",
      "metadata": {
        "id": "lmFTFUOsJhMo",
        "colab_type": "text"
      },
      "source": [
        "## STEP #5: Evaluating the Model"
      ]
    },
    {
      "cell_type": "code",
      "metadata": {
        "id": "dZDPCnVDJmGc",
        "colab_type": "code",
        "colab": {
          "base_uri": "https://localhost:8080/",
          "height": 34
        },
        "outputId": "13afbb14-34fe-4669-c5a2-71431594d57b"
      },
      "source": [
        "epochs_hist.history.keys()"
      ],
      "execution_count": 112,
      "outputs": [
        {
          "output_type": "execute_result",
          "data": {
            "text/plain": [
              "dict_keys(['loss', 'val_loss'])"
            ]
          },
          "metadata": {
            "tags": []
          },
          "execution_count": 112
        }
      ]
    },
    {
      "cell_type": "code",
      "metadata": {
        "id": "uv53Sz-DJu1i",
        "colab_type": "code",
        "colab": {
          "base_uri": "https://localhost:8080/",
          "height": 295
        },
        "outputId": "7d928da5-3a35-4eaf-f26c-ae82bef7db35"
      },
      "source": [
        "plt.plot(epochs_hist.history['loss'], color='green', label='Training loss')\n",
        "plt.title('Model loss Progress during training')\n",
        "plt.xlabel('Epochs')\n",
        "plt.ylabel('Training loss')\n",
        "plt.legend('Training loss')\n",
        "plt.show()"
      ],
      "execution_count": 113,
      "outputs": [
        {
          "output_type": "display_data",
          "data": {
            "image/png": "[encoded data removed]",
            "text/plain": [
              "<Figure size 432x288 with 1 Axes>"
            ]
          },
          "metadata": {
            "tags": [],
            "needs_background": "light"
          }
        }
      ]
    },
    {
      "cell_type": "code",
      "metadata": {
        "id": "kphkLYoc6EWy",
        "colab_type": "code",
        "colab": {
          "base_uri": "https://localhost:8080/",
          "height": 312
        },
        "outputId": "12e9f09c-2c89-4878-bb8b-c94a06285b74"
      },
      "source": [
        "plt.plot(epochs_hist.history['loss'], color='green', label='Training loss')\n",
        "plt.plot(epochs_hist.history['val_loss'], color='red', label='Validation loss')\n",
        "\n",
        "plt.title('Model loss progress during training the model')\n",
        "plt.xlabel('Epochs')\n",
        "plt.ylabel('Training loss')"
      ],
      "execution_count": 114,
      "outputs": [
        {
          "output_type": "execute_result",
          "data": {
            "text/plain": [
              "Text(0, 0.5, 'Training loss')"
            ]
          },
          "metadata": {
            "tags": []
          },
          "execution_count": 114
        },
        {
          "output_type": "display_data",
          "data": {
            "image/png": "[encoded data removed]",
            "text/plain": [
              "<Figure size 432x288 with 1 Axes>"
            ]
          },
          "metadata": {
            "tags": [],
            "needs_background": "light"
          }
        }
      ]
    },
    {
      "cell_type": "code",
      "metadata": {
        "id": "D_gbRS4lJ3pq",
        "colab_type": "code",
        "colab": {
          "base_uri": "https://localhost:8080/",
          "height": 1000
        },
        "outputId": "bb35a7c6-22b1-4787-83dd-3640ae6d8fd5"
      },
      "source": [
        "model.get_weights()"
      ],
      "execution_count": 115,
      "outputs": [
        {
          "output_type": "execute_result",
          "data": {
            "text/plain": [
              "[array([[ 0.31684262, -0.13649549,  0.08002999, -0.02876133,  0.51983815,\n",
              "          0.23006576,  0.42301896,  0.62285876, -0.6883042 ,  0.07452754,\n",
              "          0.14337465,  0.29085007, -0.6172755 , -0.27851343, -0.29905182,\n",
              "         -0.20724124, -0.17715083, -0.5182468 , -0.00633787, -0.20600568,\n",
              "         -0.1458936 , -0.0270188 ,  0.03254286, -0.06360524,  0.07063524,\n",
              "         -0.23790228,  0.217816  ,  0.45300877, -0.04914914,  0.2284995 ,\n",
              "          0.621883  ,  0.08191345]], dtype=float32),\n",
              " array([-0.17254609,  0.5538436 , -0.5820979 , -0.18795753, -0.42109695,\n",
              "        -0.85265034, -0.51222354, -1.3732886 ,  0.70578086,  0.20732443,\n",
              "        -0.3917156 , -0.9183064 ,  1.3490217 ,  0.05200289,  0.1821131 ,\n",
              "         0.4433836 ,  0.06053328,  1.0452636 , -0.7172653 ,  0.09782369,\n",
              "         1.0148686 , -0.42098904,  0.28335866,  0.28257787,  0.30584154,\n",
              "         0.07707024, -0.6466866 , -1.02976   , -0.14137493, -0.7900642 ,\n",
              "        -0.6261846 , -0.5574609 ], dtype=float32),\n",
              " array([[-0.11873988, -1.0368378 , -1.4195812 , ...,  0.07752265,\n",
              "         -1.5213916 , -0.9578588 ],\n",
              "        [-2.0043523 , -1.9621054 , -0.38486493, ...,  2.0547588 ,\n",
              "         -2.4108467 , -2.2961767 ],\n",
              "        [ 2.0552437 ,  2.0220191 ,  0.16033807, ..., -1.7893205 ,\n",
              "          2.1604657 ,  1.9981704 ],\n",
              "        ...,\n",
              "        [ 2.1043851 ,  2.1369016 ,  0.4081833 , ..., -2.2176    ,\n",
              "          2.388561  ,  2.477692  ],\n",
              "        [-0.6693426 , -0.90846133, -1.4807636 , ...,  0.437638  ,\n",
              "         -1.2080246 , -0.7190356 ],\n",
              "        [ 0.43783414,  1.4067513 ,  1.7180222 , ..., -0.4595452 ,\n",
              "          1.6502368 ,  1.3339384 ]], dtype=float32),\n",
              " array([-5.809315 , -4.5461655, -6.761024 , -6.719538 ,  5.184997 ,\n",
              "        -7.3432474, -6.7364564, -4.99471  ,  7.086236 ,  4.6925526,\n",
              "        -6.865776 ,  5.364421 ,  5.917465 ,  5.543624 , -5.7203927,\n",
              "        -5.924811 ,  5.362029 , -4.8799567,  5.8133025, -5.1883616,\n",
              "        -5.563176 , -4.625035 , -7.474108 , -4.7119546,  4.5273614,\n",
              "         7.1118536, -7.3327923, -5.265851 , -7.248531 ,  6.0621953,\n",
              "        -4.724293 , -4.6272397], dtype=float32),\n",
              " array([[-0.05688314],\n",
              "        [ 0.9182436 ],\n",
              "        [-0.6850865 ],\n",
              "        [-0.7380058 ],\n",
              "        [ 1.5320014 ],\n",
              "        [-0.6436256 ],\n",
              "        [-0.87033296],\n",
              "        [ 0.5383566 ],\n",
              "        [ 0.2304198 ],\n",
              "        [-0.8862338 ],\n",
              "        [-0.7813453 ],\n",
              "        [ 1.4674183 ],\n",
              "        [ 0.59695834],\n",
              "        [-0.07245217],\n",
              "        [ 0.26094136],\n",
              "        [-1.4066848 ],\n",
              "        [-0.42990592],\n",
              "        [ 0.78903997],\n",
              "        [-0.14913042],\n",
              "        [ 0.613714  ],\n",
              "        [-1.3183799 ],\n",
              "        [-1.3442595 ],\n",
              "        [-0.29639798],\n",
              "        [ 0.9764706 ],\n",
              "        [-0.8304666 ],\n",
              "        [-0.05634473],\n",
              "        [-0.48161092],\n",
              "        [ 0.63470155],\n",
              "        [-0.52242315],\n",
              "        [ 0.44610086],\n",
              "        [ 1.0452952 ],\n",
              "        [ 0.77605456]], dtype=float32),\n",
              " array([10.273306], dtype=float32)]"
            ]
          },
          "metadata": {
            "tags": []
          },
          "execution_count": 115
        }
      ]
    },
    {
      "cell_type": "code",
      "metadata": {
        "id": "yBgd4NQJKzU3",
        "colab_type": "code",
        "colab": {
          "base_uri": "https://localhost:8080/",
          "height": 34
        },
        "outputId": "75d78dec-a74b-440f-ee57-25ec11e99a1f"
      },
      "source": [
        "# Use the same model to perform predictions\n",
        "Temp_C = 12\n",
        "Temp_F = model.predict([Temp_C])\n",
        "print('Temprature in Fahrenheit using simple ANN=', Temp_F)"
      ],
      "execution_count": 116,
      "outputs": [
        {
          "output_type": "stream",
          "text": [
            "Temprature in Fahrenheit using simple ANN= [[53.60002]]\n"
          ],
          "name": "stdout"
        }
      ]
    },
    {
      "cell_type": "code",
      "metadata": {
        "id": "xT7qFFZDLL-6",
        "colab_type": "code",
        "colab": {
          "base_uri": "https://localhost:8080/",
          "height": 34
        },
        "outputId": "c11a5543-8504-46f3-f84f-79293ed6ed5c"
      },
      "source": [
        "# Lets confirm with the equation\n",
        "Temp_F = 9/5 * Temp_C + 32\n",
        "print('Temprature in Fahrenheit using normal equation=', Temp_F)"
      ],
      "execution_count": 117,
      "outputs": [
        {
          "output_type": "stream",
          "text": [
            "Temprature in Fahrenheit using normal equation= 53.6\n"
          ],
          "name": "stdout"
        }
      ]
    },
    {
      "cell_type": "code",
      "metadata": {
        "id": "F4XfEAe5LXfU",
        "colab_type": "code",
        "colab": {}
      },
      "source": [
        ""
      ],
      "execution_count": 117,
      "outputs": []
    }
  ]
}